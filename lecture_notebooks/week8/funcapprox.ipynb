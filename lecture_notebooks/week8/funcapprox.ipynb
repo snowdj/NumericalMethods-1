{
 "cells": [
  {
   "cell_type": "markdown",
   "metadata": {
    "slideshow": {
     "slide_type": "slide"
    }
   },
   "source": [
    "# Function Approximation\n",
    "\n",
    "\n",
    "Sciences Po, Spring 2021"
   ]
  },
  {
   "cell_type": "markdown",
   "metadata": {
    "slideshow": {
     "slide_type": "slide"
    }
   },
   "source": [
    "\n",
    "## Outline\n",
    "\n",
    "1. Overview of Approximation Methods\n",
    "\t1. Interpolation\n",
    "\t1. Regression\n",
    "1. Polynomial Interpolation\n",
    "1. Spline Interpolation\n",
    "1. Multidimensional Approximation\n",
    "\n"
   ]
  },
  {
   "cell_type": "markdown",
   "metadata": {
    "slideshow": {
     "slide_type": "slide"
    }
   },
   "source": [
    "\n",
    "## Approximation Methods\n",
    "\n",
    "* Confronted with a non-analytic function $f$ (i.e. something not like $log(x)$), we need a way to numerically represent $f$ in a computer.\n",
    "\t* If your problem is to compute a value function in a dynamic problem, you don't have an *analytic representation* of $V$.\n",
    "\t* If you need to compute an equilibrium distribution for your model, you probably can't tell it's from one parametric family or another. Hence you need to approximate it.\n"
   ]
  },
  {
   "cell_type": "markdown",
   "metadata": {
    "slideshow": {
     "slide_type": "slide"
    }
   },
   "source": [
    "* Approximations use *data* of some kind which informs us about $f$. Most commonly, we know the function values $f(x_i)$ at a corresponding finite set of points $X = \\{x_i\\}_{i=1}^N$.\n",
    "* The task of approximation is to take that data and tell us what the function value is at $f(y),y\\not \\in X$.\n",
    "* To an economist this should sound very familiar: take a dataset, learn it's structure, and make predictions.\n",
    "* The only difference is that we can do much better here, because we have more degree's of freedom (we can choose our $X$ in $Y=\\beta X + \\epsilon$)"
   ]
  },
  {
   "cell_type": "markdown",
   "metadata": {
    "slideshow": {
     "slide_type": "subslide"
    }
   },
   "source": [
    "\n",
    "## Some Taxonomy\n",
    "\n",
    "* Local Approximations: approximate function and it's derivative $f,f'$ at a *single* point $x_0$. Taylor Series:\n",
    "\t$$ f(x) = f(x_0) + (x-x_0)f'(x_0) + \\frac{(x-x_0)^2}{2}f''(x_0) + \\dots + \\frac{(x-x_0)^n}{n!}f^{n}(x_0) $$\n",
    "* Interpolation or *Colocation*: find a function $\\hat{f}$ that is a good fit to $f$, and require that $\\hat{f}$ *passes through* the points. If we think of there being a *residual* $\\epsilon_i = f(x_i) - \\hat{f}(x_i)$ at each grid point $i$, this methods succeeds in setting $\\epsilon_i=0,\\forall i$.\n",
    "* Regression: Minimize some notion of distance (or squared distance) between $\\hat{f}$ and $f$, without the requirement of pass through. "
   ]
  },
  {
   "cell_type": "markdown",
   "metadata": {
    "slideshow": {
     "slide_type": "slide"
    }
   },
   "source": [
    "## Doing Interpolation in Julia\n",
    "\n",
    "* In practice, you will make heavy use of high-quality interpolation packages in julia.\n",
    "* List in the end.\n",
    "* Nevertheless, function approximation is *extremely* problem-specific, so sometimes a certain approach does not work for your problem.\n",
    "* This is why we will go through the mechanics of some common methods.\n",
    "* I would like you to know where to start drilling if you need to go and hack somebody elses code."
   ]
  },
  {
   "cell_type": "markdown",
   "metadata": {
    "slideshow": {
     "slide_type": "slide"
    }
   },
   "source": [
    "## Basis Functions\n",
    "\n",
    "1. What is a basis?\n",
    "2. What is a basis function?"
   ]
  },
  {
   "cell_type": "markdown",
   "metadata": {
    "slideshow": {
     "slide_type": "subslide"
    }
   },
   "source": [
    "### *Basis* in Linear Algebra\n",
    "\n",
    "* We call a basis $B$ of a vector space $V$ over a field $F$ (such as the real numbers $\\mathbb{R}$) a *linearly independent subset* of $V$ that *spans* $V$.\n",
    "* In other words $B \\subset V$ is called a *basis* if it satisfies\n",
    "    1. linear independence: for all subsets $b_1,b_2,\\dots,b_n$, and for all scalars $a_1,a_2,\\dots,a_n\\in F$, we have that if $b_1 a_1 + b_2 a_2 +\\dots+b_n a_n = 0$, then $a_1 = a_2 =\\dots= a_n = 0$\n",
    "    1. spanning of $V$: for all vectors $\\mathbf{v} \\in V$, one can choose $b_1,b_2,\\dots,b_n \\in B$ and $v_1,v_2,\\dots,v_n \\in V$ s.t. $\\mathbf{v} = b_1 v_1 + b_2 v_2 +\\dots+b_n v_n$\n",
    "* From those definitions you can see that the $b$ are like *weights*, and that one can represent vectors are *linear combinations* of other vectors."
   ]
  },
  {
   "cell_type": "markdown",
   "metadata": {
    "slideshow": {
     "slide_type": "subslide"
    }
   },
   "source": [
    "### Basis Example in R2\n",
    "\n",
    "* The set $\\mathbb{R}^2$ of ordered pairs of real numbers is a vector space $V$ for\n",
    "    1. component-wise addition: $(a,b) + (c,d) = (a+c, b+d)$\n",
    "    2. scalar multiplication: $\\lambda (a,b) = (\\lambda a, \\lambda b), \\lambda \\in \\mathbb{R}$.\n",
    "* One basis called the *standard basis* of $V$ consists of two vectors:\n",
    "    1. $e_1 = (1,0)$\n",
    "    2. $e_2 = (0,1)$\n",
    "* Any vector $v=(a,b) \\in \\mathbb{R}^2$ can be uniquely written as $v = ae_1 + be_2$\n",
    "* Any other pair of linearly independent vectors like $(1,1)$ and $(-1,2)$ is also a basis of $\\mathbb{R}^2$."
   ]
  },
  {
   "cell_type": "markdown",
   "metadata": {
    "slideshow": {
     "slide_type": "subslide"
    }
   },
   "source": [
    "### Higher Dimensions\n",
    "\n",
    "* If the field $F$ has more than 2 dimensions, $n$ say, we work with $n$-tuples.\n",
    "* For example, $e_i = (0,\\dots,0,1,0\\dots,0)$ with the $i$th component $1$.\n",
    "* The set of all *monomials* forms a particular basis: the *monomial basis*: ${1,X,X^2,X^3,\\dots}$\n",
    "* **Any** set of polynomials with a unique polynomial for each degree is also a basis, called a *polynomial sequence*. A prominent example here are the *Chebyshev polynomials*, which we will encounter again.\n"
   ]
  },
  {
   "cell_type": "markdown",
   "metadata": {
    "slideshow": {
     "slide_type": "slide"
    }
   },
   "source": [
    "## What is a Basis *function*?\n",
    "\n",
    "* Now we know that every vector $\\mathbf{v}$ in a vector space $V$ can be represented by a linear combination of *basis vectors*.\n",
    "* Similarly, we can represent every *continuous* function in a particular *function space* $F$ by a linear combination of *basis functions*.\n",
    "* Another good name for basis functions is *blending functions*. We often use a mixture of several basis functions to find an approximation."
   ]
  },
  {
   "cell_type": "markdown",
   "metadata": {
    "slideshow": {
     "slide_type": "slide"
    }
   },
   "source": [
    "## Approximating Functions\n",
    "\n",
    "* Let $F$ by the space of continuous real-valued functions with domain $\\mathbf{x}\\in \\mathbb{R}$. $F$ is a vector space.\n",
    "* Next, we define an inner-product operation on that space:\n",
    "    $$\n",
    "    <g,h> = \\int_\\mathbf{x} g(x) h(x) w(x) dx\n",
    "    $$\n",
    "    where functions $g,h,w \\in F$ and $w$ is a weighting function.\n",
    "* the pair $\\{F, <.,.>\\}$ form an *inner-product vector space*.\n",
    "* Now we want to approximate a **known** function $f:\\mathbf{x}\\mapsto\\mathbb{R}$ in $\\{F, <.,.>\\}$"
   ]
  },
  {
   "cell_type": "markdown",
   "metadata": {
    "slideshow": {
     "slide_type": "slide"
    }
   },
   "source": [
    "\n",
    "* Let's define $\\hat{f}(\\cdot;c)$ to be our parametric approximation function. We generically define this as\n",
    "\n",
    "$$  \n",
    "    \\hat{f}(x;c) = \\sum_{j=0}^{J-1} c_j \\phi_j(x) \n",
    "$$\n",
    "\n",
    "where \n",
    "* $\\phi_j : \\mathbb{R}^d \\mapsto \\mathbb{R}$ is called a **basis function**, and $\\Phi_J = \\{\\phi_j\\}_{j=0}^{J-1}$.\n",
    "* $c={c_0,c_1,\\dots,c_{J-1}}$ is a coefficient vector\n",
    "* The integer $J$ is the *order* of the interpolation.\n",
    "* Our problem is to choose $(\\phi_i,c)$ in some way.\n",
    "* We want to minimize the residual function, i.e. $\\gamma(x,c) \\equiv f(x) - \\sum_{j=0}^{J-1} c_j \\phi_j(x)$"
   ]
  },
  {
   "cell_type": "markdown",
   "metadata": {},
   "source": [
    "* To find coefficients $c$, one could for example minimize the squared errors, OLS:\n",
    "    $$\n",
    "    c^* = \\arg \\min \\int_\\mathbf{x} \\gamma(x,c) w(x) dx\n",
    "    $$\n",
    "* In standard OLS, we'd set the weighting function to $w(x) = 1$"
   ]
  },
  {
   "cell_type": "markdown",
   "metadata": {
    "slideshow": {
     "slide_type": "subslide"
    }
   },
   "source": [
    "We will construct a *grid* of $M\\geq J$ points ${x_1,\\dots,x_M}$ within the domain $\\mathbb{R}^d$, and we will denote the *residuals* at each grid point by $\\epsilon = {\\epsilon_1,\\dots,\\epsilon_M}$:\t\n",
    "\n",
    "$$ \n",
    "    \\left[\\begin{array}{c}\n",
    "        \\epsilon_1 \\\\\n",
    "         \\vdots \\\\\n",
    "        \\epsilon_M \\\\ \\end{array} \\right]  = \\left[\\begin{array}{c} f(x_1) \\\\ \\vdots \\\\ f(x_M)  \\end{array} \\right] - \\left[\\begin{array}{ccc} \n",
    "        \\phi_1(x_1) & \\dots & \\phi_J(x_1) \\\\   \n",
    "        \\vdots      & \\ddots & \\vdots \\\\   \n",
    "        \\phi_1(x_M) & \\dots & \\phi_J(x_M)    \n",
    "        \\end{array} \\right]  \\cdot \n",
    "        \\left[\\begin{array}{c} c_1 \\\\ \\vdots \\\\ c_J  \\end{array} \\right] \\\\\n",
    "        \\mathbf{\\epsilon} = \\mathbf{y} - \\mathbf{\\Phi c}\n",
    "$$"
   ]
  },
  {
   "cell_type": "markdown",
   "metadata": {
    "slideshow": {
     "slide_type": "subslide"
    }
   },
   "source": [
    "* *Interpolation* or *colocation* occurs when $J=M$, i.e. we have a square matrix of basis functions, and can exactly solve this.\n",
    "* We basically need to solve the system\n",
    "\n",
    "$$ \n",
    "\\begin{aligned} \n",
    "\\sum_{j=1}^n c_j \\phi_j(x_i) &= f(x_i),\\forall i=1,2,\\dots,n \\\\\n",
    "                  \\mathbf{\\Phi c}&= \\mathbf{y}\n",
    "\\end{aligned}\n",
    "$$\n",
    "\n",
    "where the second line uses vector notation, and $\\mathbf{y}$ has all values of $f$.\n",
    "* Solution: $\\mathbf{c}= \\mathbf{\\Phi}^{-1}y$.\n",
    "\n"
   ]
  },
  {
   "cell_type": "markdown",
   "metadata": {
    "slideshow": {
     "slide_type": "slide"
    }
   },
   "source": [
    "\n",
    "## Regression Basics\n",
    "\n",
    "* If we have more evaluation points than basis functions, $M>J$ say, interpolation nodes than basis functions, we cannot do that. Instead we can define a loss function, and minimize it. \n",
    "* In the case of squared loss, of course, this leads to the least squares solution:\n",
    "\n",
    "$$ \n",
    "\\begin{aligned} e_i &= f(x_i) - \\sum_{j=1}^n c_j \\phi_j(x_i) \\\\\n",
    "        \\min_c e_i^2 & \\implies \\\\\n",
    "        c            &= (\\Phi'\\Phi)^{-1} \\Phi'y\n",
    "\\end{aligned}\n",
    " $$"
   ]
  },
  {
   "cell_type": "markdown",
   "metadata": {
    "slideshow": {
     "slide_type": "slide"
    }
   },
   "source": [
    "\n",
    "## Spectral and Finite Element Methods\n",
    "\n",
    "* **Spectral Methods** are such that the basis functions are non-zero over the entire domain of $f$.\n",
    "\t* Polynomial interpolation\n",
    "\t* Chebychev interpolation\n",
    "* **Finite Element** methods are such that basis functions are non-zero only on a subset of the domain.\n",
    "\t* Splines\n",
    "\t\t* Linear splines, i.e. splines of degree 1, a.k.a. *linear approximation*\n",
    "\t\t* Higher order splines, mainly the *cubic spline*."
   ]
  },
  {
   "cell_type": "markdown",
   "metadata": {
    "slideshow": {
     "slide_type": "subslide"
    }
   },
   "source": [
    "\n",
    "## What makes a **good** Approximation?\n",
    "\n",
    "* Should be arbitrarily accurate as we increase $n$.\n",
    "* $\\Phi$ Should be efficiently (fast) computable. If $\\Phi$ were differentiable, we could easily get e.g. $\\hat{f}'(x) = \\sum_{j=1}^J c_j \\phi_j'(x_i)$\n",
    "* $c$ Should be efficiently (fast) computable.\n",
    "\n"
   ]
  },
  {
   "cell_type": "markdown",
   "metadata": {
    "slideshow": {
     "slide_type": "subslide"
    }
   },
   "source": [
    "\n",
    "## What Polynomial to use? What form for $\\Phi$?\n",
    "\n",
    "* In principle the *monomial basis* could be used. It is just the power functions of $x$: $1,x,x^2,x^3,\\dots$\n",
    "* Stacking this up for each evaluation node gives the *Vandermonde Matrix*:\n",
    "  \n",
    "$$ \n",
    "V = \\left[\\begin{matrix} \n",
    "        1 & x_1 & \\dots & x_1^{n-2} & x_1^{n-1} \\\\ \n",
    "        1 & x_2 & \\dots & x_2^{n-2} & x_2^{n-1} \\\\ \n",
    "        \\vdots & \\vdots & \\ddots &  & \\vdots \\\\ \n",
    "        1 & x_m & \\dots & x_m^{n-2} & x_m^{n-1} \n",
    "        \\end{matrix} \\right]\n",
    "$$\n",
    "\n",
    "\n",
    "for the case with $m$ evaluation nodes for $x$, and $n$ basis functions for each $x_i$.\n",
    "\n",
    "\n"
   ]
  },
  {
   "cell_type": "markdown",
   "metadata": {
    "slideshow": {
     "slide_type": "subslide"
    }
   },
   "source": [
    "### Choosing Basis Matrices\n",
    "\n",
    "* If we choose $\\Phi$ so that it's elements share a lot of information, it will be hard to invert it.\n",
    "* So, if the elements share very little information, it's easier to invert, hence good for us\n",
    "* For example, if we have $\\Phi$ close to diagonal (i.e. different basis $\\phi_j(x)$ are non-zero at different $x$).\n",
    "* Such $\\Phi$ are generated by using *orthogonal Polynomials* (under our inner product definition).\n",
    "* An orthogonal Polynomial has 2 sequences of polynomials orthogonal under an inner product: their inner product is zero under a certain weighting function $w(x)$. \n"
   ]
  },
  {
   "cell_type": "markdown",
   "metadata": {},
   "source": [
    "### Choosing Basis Matrices\n",
    "\n",
    "* For example, the Chebyshev polynomials are orthogonal wrt. to weight $\\frac{1}{\\sqrt{1-x^2}}$\n",
    "* for degrees $n,m$ of that polynomial, $T_n,T_m$, we have\n",
    "    $$\n",
    "    \\int_{-1}^1 T_n(x)T_m(x)\\,\\frac{dx}{\\sqrt{1-x^2}}=\n",
    "    \\begin{cases}\n",
    "        0 & n\\ne m \\\\ \\pi & n=m=0 \\\\ \\frac{\\pi}{2} & n=m\\ne 0\n",
    "    \\end{cases}\n",
    "    $$"
   ]
  },
  {
   "cell_type": "markdown",
   "metadata": {
    "slideshow": {
     "slide_type": "subslide"
    }
   },
   "source": [
    "### Chebyshev Polynomials *of the first kind*\n",
    "\n",
    "* There is a nice recursion to get $T_n(x)$:\n",
    "    \\begin{align}\n",
    "        T_0(x) & = 1 \\\\\n",
    "        T_1(x) & = x \\\\\n",
    "        T_{n+1}(x) & = 2xT_n(x) - T_{n-1}(x).\n",
    "    \\end{align}\n",
    "* Code that up and compute $T_{3}(0.5)$!\n",
    "* Check you get the same as with the alternative closed form $T_n(x) = \\cos(n \\arccos(x))$"
   ]
  },
  {
   "cell_type": "code",
   "execution_count": 1,
   "metadata": {
    "slideshow": {
     "slide_type": "subslide"
    }
   },
   "outputs": [
    {
     "name": "stdout",
     "output_type": "stream",
     "text": [
      "T(0.5, 3) = -1.0\n"
     ]
    }
   ],
   "source": [
    "function T(x,n)\n",
    "    @assert (x >= -1) & (x <= 1)\n",
    "    if n == 0\n",
    "        return 1.0\n",
    "    elseif n==1\n",
    "        return x\n",
    "    else\n",
    "        2*x*T(x,n-1) - T(x,n-2)\n",
    "    end\n",
    "end\n",
    "T2(x,n) = cos(n* acos(x))\n",
    "@show T(0.5,3)\n",
    "using Test\n",
    "@assert T2(0.5,3) == T(0.5,3)        "
   ]
  },
  {
   "cell_type": "code",
   "execution_count": 2,
   "metadata": {
    "slideshow": {
     "slide_type": "subslide"
    }
   },
   "outputs": [],
   "source": [
    "# weighting function\n",
    "w(x) = 1.0 / sqrt(1-x^2)\n",
    "using Statistics\n",
    "using Test\n",
    "\n",
    "# simple integration works for n not equal m\n",
    "@assert isapprox(mean(T(x,0) * T(x,1) * w(x) for x in range(-0.99,stop = 0.99, length=100)), 0.0, atol = 1e-16)\n",
    "@assert isapprox(mean(T(x,4) * T(x,5) * w(x) for x in range(-0.99,stop = 0.99, length=100)), 0.0, atol = 1e-16)"
   ]
  },
  {
   "cell_type": "markdown",
   "metadata": {
    "slideshow": {
     "slide_type": "subslide"
    }
   },
   "source": [
    "\n",
    "## Chebyshev Nodes\n",
    "\n",
    "* *Chebyshev Nodes* are the roots of the chebyshev polynomial (i.e. where $P(x) = 0$).\n",
    "* They are defined in the interval $[-1,1]$ as \n",
    "    $$ x_i = \\cos\\left(\\frac{2k-1}{2n} \\pi\\right), k=1,\\dots,n $$\n",
    "* Which maps to general interval $[a,b]$ as\n",
    "\t$$ x_i = \\frac{1}{2} (a+b) + \\frac{1}{2} (b-a) \\cos\\left(\\frac{2k-1}{2n} \\pi\\right) , k=1,\\dots,n $$\n",
    "* Chebyshev nodes are **not** evenly spaced: there are more points towards the boundaries. You might remember that from Gaussian Integration nodes."
   ]
  },
  {
   "cell_type": "code",
   "execution_count": 3,
   "metadata": {
    "slideshow": {
     "slide_type": "subslide"
    }
   },
   "outputs": [
    {
     "ename": "LoadError",
     "evalue": "ArgumentError: Package FastGaussQuadrature not found in current path:\n- Run `import Pkg; Pkg.add(\"FastGaussQuadrature\")` to install the FastGaussQuadrature package.\n",
     "output_type": "error",
     "traceback": [
      "ArgumentError: Package FastGaussQuadrature not found in current path:\n- Run `import Pkg; Pkg.add(\"FastGaussQuadrature\")` to install the FastGaussQuadrature package.\n",
      "",
      "Stacktrace:",
      " [1] require(::Module, ::Symbol) at ./loading.jl:893",
      " [2] include_string(::Function, ::Module, ::String, ::String) at ./loading.jl:1091"
     ]
    }
   ],
   "source": [
    "using Plots\n",
    "using FastGaussQuadrature\n",
    "gcnodes = gausschebyshev(21)  # generate 11 Chebyshev Nodes\n",
    "gr()\n",
    "scatter(gcnodes,ones(21),ylims=(0.9,1.1),m=(:red,:+),legend=false,size=(600,100),yticks=nothing)"
   ]
  },
  {
   "cell_type": "markdown",
   "metadata": {
    "slideshow": {
     "slide_type": "subslide"
    }
   },
   "source": [
    "### Constructing $\\Phi$ as $T$ evaluated *at* the Chebyshev Nodes\n",
    "* Combining Chebyshev nodes evaluated at the roots $T$ of the Cheby polynomial to construct $\\Phi$ is a particularly good idea.\n",
    "* Doing so, we obtain an interpolation matrix $\\Phi$ with typical element\n",
    "\t$$ \\phi_{ij} = \\cos\\left( \\frac{(n-i+0.5)(j-1)\\pi}{n}\\right)  $$\n",
    "* And we obtain that $\\Phi$ is indeed orthogonal\n",
    "\t$$ \\Phi^T \\Phi = \\text{diag}\\{n,n/2,n/2,\\dots,n/2\\}  $$\n",
    "\n",
    "\n"
   ]
  },
  {
   "cell_type": "code",
   "execution_count": 4,
   "metadata": {
    "slideshow": {
     "slide_type": "subslide"
    }
   },
   "outputs": [
    {
     "ename": "LoadError",
     "evalue": "ArgumentError: Package BasisMatrices not found in current path:\n- Run `import Pkg; Pkg.add(\"BasisMatrices\")` to install the BasisMatrices package.\n",
     "output_type": "error",
     "traceback": [
      "ArgumentError: Package BasisMatrices not found in current path:\n- Run `import Pkg; Pkg.add(\"BasisMatrices\")` to install the BasisMatrices package.\n",
      "",
      "Stacktrace:",
      " [1] require(::Module, ::Symbol) at ./loading.jl:893",
      " [2] include_string(::Function, ::Module, ::String, ::String) at ./loading.jl:1091"
     ]
    }
   ],
   "source": [
    "using BasisMatrices\n",
    "x = range(-4, stop = 4 ,length = 10)\n",
    "ϕ = Basis(ChebParams(length(x),-4,4))\n",
    "ϕ"
   ]
  },
  {
   "cell_type": "code",
   "execution_count": 5,
   "metadata": {
    "slideshow": {
     "slide_type": "subslide"
    }
   },
   "outputs": [
    {
     "ename": "LoadError",
     "evalue": "UndefVarError: nodes not defined",
     "output_type": "error",
     "traceback": [
      "UndefVarError: nodes not defined",
      "",
      "Stacktrace:",
      " [1] top-level scope at In[5]:1",
      " [2] include_string(::Function, ::Module, ::String, ::String) at ./loading.jl:1091"
     ]
    }
   ],
   "source": [
    "S, y = nodes(ϕ)"
   ]
  },
  {
   "cell_type": "code",
   "execution_count": 6,
   "metadata": {
    "slideshow": {
     "slide_type": "subslide"
    }
   },
   "outputs": [
    {
     "ename": "LoadError",
     "evalue": "UndefVarError: Expanded not defined",
     "output_type": "error",
     "traceback": [
      "UndefVarError: Expanded not defined",
      "",
      "Stacktrace:",
      " [1] top-level scope at In[6]:1",
      " [2] include_string(::Function, ::Module, ::String, ::String) at ./loading.jl:1091"
     ]
    }
   ],
   "source": [
    "Φ = BasisMatrix(ϕ, Expanded(), S, 0)"
   ]
  },
  {
   "cell_type": "code",
   "execution_count": 7,
   "metadata": {
    "slideshow": {
     "slide_type": "subslide"
    }
   },
   "outputs": [
    {
     "ename": "LoadError",
     "evalue": "UndefVarError: Φ not defined",
     "output_type": "error",
     "traceback": [
      "UndefVarError: Φ not defined",
      "",
      "Stacktrace:",
      " [1] top-level scope at In[7]:1",
      " [2] include_string(::Function, ::Module, ::String, ::String) at ./loading.jl:1091"
     ]
    }
   ],
   "source": [
    "Φ.vals[1]' * Φ.vals[1]"
   ]
  },
  {
   "cell_type": "markdown",
   "metadata": {
    "slideshow": {
     "slide_type": "slide"
    }
   },
   "source": [
    "## (Chebyshev) Interpolation Proceedure\n",
    "\n",
    "* Let's summarize this proceedure.\n",
    "* Instead of Chebyshev polynomials we could be using any other suitable family of polynomials.\n",
    "* To obtain a Polynomial interpolant $\\hat{f}$, we need:\n",
    "\t1. a function to $f$ interpolate. We need to be able to get the function values somehow.\n",
    "\t1. A set of (Chebyshev) interpolation nodes at which to compute $f$\n",
    "\t1. An interpolation matrix $\\Phi$ that corresponds to the nodes we have chosen.\n",
    "\t1. A resulting coefficient vector $c$\n",
    "* To obtain the value of the interpolation at $x'$ off our grid, we also need a way to evaluate $\\Phi(x')$.\n",
    "\t1. Evaluate the Basis function $\\Phi$ at $x'$: get $\\Phi(x')$\n",
    "\t2. obtain new values as $y = \\Phi(x') c$."
   ]
  },
  {
   "cell_type": "markdown",
   "metadata": {
    "slideshow": {
     "slide_type": "slide"
    }
   },
   "source": [
    "## Polynomial Interpolation with `Julia`: `ApproxFun.jl`\n",
    "\n",
    "* [`ApproxFun.jl`](https://github.com/ApproxFun/ApproxFun.jl) is a Julia package based on the Matlab package [`chebfun`](http://www.chebfun.org). It is quite amazing.\n",
    "* More than just *function approximation*. This is a toolbox to actually *work* with functions.\n",
    "* given 2 functions $f,g$, we can do algebra with them, i.e. $h(x) = f(x) + g(x)^2$\n",
    "* We can differentiate and integrate\n",
    "* Solve ODE's and PDE's\n",
    "* represent periodic functions\n",
    "* Head over to the [website and look at the readme](https://github.com/JuliaApproximation/ApproxFun.jl)."
   ]
  },
  {
   "cell_type": "code",
   "execution_count": 8,
   "metadata": {
    "slideshow": {
     "slide_type": "subslide"
    }
   },
   "outputs": [
    {
     "ename": "LoadError",
     "evalue": "ArgumentError: Package SpecialFunctions not found in current path:\n- Run `import Pkg; Pkg.add(\"SpecialFunctions\")` to install the SpecialFunctions package.\n",
     "output_type": "error",
     "traceback": [
      "ArgumentError: Package SpecialFunctions not found in current path:\n- Run `import Pkg; Pkg.add(\"SpecialFunctions\")` to install the SpecialFunctions package.\n",
      "",
      "Stacktrace:",
      " [1] require(::Module, ::Symbol) at ./loading.jl:893",
      " [2] include_string(::Function, ::Module, ::String, ::String) at ./loading.jl:1091"
     ]
    }
   ],
   "source": [
    "using LinearAlgebra, SpecialFunctions, Plots, ApproxFun\n",
    "x = Fun(identity,0..10)\n",
    "f = sin(x^2)\n",
    "g = cos(x)\n",
    "\n",
    "h = f + g^2\n",
    "r = roots(h)\n",
    "rp = roots(h')\n",
    "\n",
    "using Plots\n",
    "plot(h,labels = \"h\")\n",
    "scatter!(r,h.(r),labels=\"roots h\")\n",
    "scatter!(rp,h.(rp),labels = \"roots h'\")"
   ]
  },
  {
   "cell_type": "code",
   "execution_count": 9,
   "metadata": {
    "slideshow": {
     "slide_type": "subslide"
    }
   },
   "outputs": [
    {
     "ename": "LoadError",
     "evalue": "UndefVarError: Fun not defined",
     "output_type": "error",
     "traceback": [
      "UndefVarError: Fun not defined",
      "",
      "Stacktrace:",
      " [1] top-level scope at In[9]:3",
      " [2] include_string(::Function, ::Module, ::String, ::String) at ./loading.jl:1091"
     ]
    }
   ],
   "source": [
    "# works even with discontinuities!\n",
    "ff = x->sign(x-0.1)/2 + cos(4*x);  # sign introduces a jump at 0.1\n",
    "x  = Fun(identity)\t# set up a function space\n",
    "space(x)\n",
    "f  = ff(x)\t# define ff on that space\n",
    "plot(f)\t# plot"
   ]
  },
  {
   "cell_type": "code",
   "execution_count": 10,
   "metadata": {
    "slideshow": {
     "slide_type": "subslide"
    }
   },
   "outputs": [
    {
     "ename": "LoadError",
     "evalue": "UndefVarError: f not defined",
     "output_type": "error",
     "traceback": [
      "UndefVarError: f not defined",
      "",
      "Stacktrace:",
      " [1] top-level scope at In[10]:2",
      " [2] include_string(::Function, ::Module, ::String, ::String) at ./loading.jl:1091"
     ]
    }
   ],
   "source": [
    "# whats the first deriv of that function at at 0.785?\n",
    "println(f'(0.785))\n",
    "# and close to the jump, at 0.100001?\n",
    "println(f'(0.1000001))\n",
    "# integral of f?\n",
    "g1 = cumsum(f)\n",
    "g = g1 + f(-1)\n",
    "integral = norm(f-g)\n",
    "integral"
   ]
  },
  {
   "cell_type": "markdown",
   "metadata": {
    "slideshow": {
     "slide_type": "subslide"
    }
   },
   "source": [
    "\n",
    "* The main purpose of this package is to manipulate analytic functions, i.e. function with an algebraic representation.\n",
    "* There is the possibility to supply a set of data points and fit a polynomial:"
   ]
  },
  {
   "cell_type": "code",
   "execution_count": 11,
   "metadata": {
    "slideshow": {
     "slide_type": "subslide"
    }
   },
   "outputs": [
    {
     "ename": "LoadError",
     "evalue": "UndefVarError: .. not defined",
     "output_type": "error",
     "traceback": [
      "UndefVarError: .. not defined",
      "",
      "Stacktrace:",
      " [1] top-level scope at In[11]:1",
      " [2] include_string(::Function, ::Module, ::String, ::String) at ./loading.jl:1091"
     ]
    }
   ],
   "source": [
    "S = Chebyshev(1..2);\n",
    "n = 100; m = 50;\n",
    "p = range(1,stop=2,length=n);   # a non-default grid\n",
    "v = exp.(p);           # values at the non-default grid\n",
    "V = Array{Float64}(undef,n,m); # Create a Vandermonde matrix by evaluating the basis at the grid\n",
    "for k = 1:m\n",
    "    V[:,k] = Fun(S,[zeros(k-1);1]).(p)\n",
    "end\n",
    "f = Fun(S,V\\v);\n",
    "@show f(1.1)\n",
    "@show exp(1.1)\n"
   ]
  },
  {
   "cell_type": "markdown",
   "metadata": {
    "slideshow": {
     "slide_type": "slide"
    }
   },
   "source": [
    "## Splines: Piecewise Polynomial Approximation\n",
    "\n",
    "* Splines are a finite element method, i.e. there are regions of the function domain where some basis functions are zero.\n",
    "* As such, they provide a very flexible framework for approximation instead of high-order polynomials.\n",
    "\t* Keep in mind that Polynomials basis functions are non-zero on the entire domain. Remember the Vandermonde matrix.\n",
    "* They bring some element of local approximation back into our framework. What happens at one end of the domain to the function is not important to what happens at the other end.\n",
    "* Looking back at the previous plot of random data: we are searching for **one** polynomial to fit **all** those wiggles. A spline will allow us to design **different** polynomials in different parts of the domain."
   ]
  },
  {
   "cell_type": "markdown",
   "metadata": {
    "slideshow": {
     "slide_type": "subslide"
    }
   },
   "source": [
    "\n",
    "### Splines: Basic Setup\n",
    "\n",
    "* The fundamental building block is the *knot vector*, or the *breakpoints vector* $\\mathbf{z}$ of length $p$. An element of $\\mathbf{z}$ is $z_i$.\n",
    "* $\\mathbf{z}$ is ordered in ascending order.\n",
    "* $\\mathbf{z}$ spans the domain $[a,b]$ of our function, and we have that $a=z_1,b=z_p$\n",
    "* A spline is of *order k* if the polynomial segments are k-th order polynomials.\n",
    "* Literature: [@deboor] <cite data-cite=deboo></cite> is the definitive reference for splines."
   ]
  },
  {
   "cell_type": "markdown",
   "metadata": {
    "slideshow": {
     "slide_type": "subslide"
    }
   },
   "source": [
    "### Splines: Characterization\n",
    "\n",
    "* Given $p$ knots, there are $p-1$ polynomial segments of order $k$, each characterized by $k+1$ coefficients, i.e. a total of $(p-1)(k+1)$ parameters.\n",
    "* However, we also require the spline to be continuous and differentiable of degree $k-1$ at the $p-2$ interior breakpoints.\n",
    "* Imposing that uses up an additional $k(p-2)$ conditions.\n",
    "* We are left with $n = (p-1)(k+1) - k(p-2) = p+k-1$ free parameters.\n",
    "* A Spline of order $k$ and $p$ knots can thus be written as a linear combination of it's $n = p+k-1$ basis functions."
   ]
  },
  {
   "cell_type": "markdown",
   "metadata": {
    "slideshow": {
     "slide_type": "slide"
    }
   },
   "source": [
    "\n",
    "## B-Splines: Definition\n",
    "\n",
    "* We mostly use Basis Splines, or **B-Splines**.\n",
    "* Here is a recursive definition of a B-Spline (and what is used in `ApproXD`):\n",
    "* Denote the $j$-th basis function of degree $k$ with knot vector $\\mathbf{z}$  at $x$ as $B_j^{k,\\mathbf{z}} (x)$\n",
    "* Again, there are $n = k + p - 1$ $B$'s (where $p$` = length(z)`)\n",
    "* We can define $B_j^{k,\\mathbf{z}} (x)$ recursively like this:\n",
    "\n",
    "\t$$ \n",
    "    B_j^{k,\\mathbf{z}} (x) = \\frac{x-z_{j-k}}{z_j - z_{j-k}} B_{j-1}^{k-1,\\mathbf{z}} (x)  + \\frac{z_{j+1}-x}{z_{j+1} - z_{j+1-k}} B_{j}^{k-1,\\mathbf{z}} (x), j=1,\\dots,n\n",
    "    $$"
   ]
  },
  {
   "cell_type": "markdown",
   "metadata": {
    "slideshow": {
     "slide_type": "subslide"
    }
   },
   "source": [
    "* The recursion starts with\n",
    "\n",
    "$$ B_j^{0,\\mathbf{z}} (x) = \\begin{cases}\n",
    "    1 & \\text{if }z_j \\leq x <\tz_{j+1}\\\\\n",
    "    0 & \\text{otherwise.}\n",
    "    \\end{cases}\n",
    "$$\n",
    "\n",
    "* For this formulation to work, we need to extend the knot vector for $j<1,j>p$:\n",
    "\t\n",
    "$$ z_j = \\begin{cases}\n",
    "    a & \\text{if }j \\leq 1\\\\\n",
    "    b & \\text{if }j \\geq p\n",
    "    \\end{cases} \n",
    "$$\n",
    "        \n",
    "* And we need to set the endpoints\n",
    "\t$$ B_0^{k-1,\\mathbf{z}} = B_n^{k-1,\\mathbf{z}} =0 $$\n",
    "* You may see that this gives rise to a triangular computation strategy, as pointed out [here](http://www.cs.mtu.edu/~shene/COURSES/cs3621/NOTES/spline/B-spline/bspline-basis.html).\n",
    "\n"
   ]
  },
  {
   "cell_type": "markdown",
   "metadata": {
    "slideshow": {
     "slide_type": "subslide"
    }
   },
   "source": [
    "## B-Splines: Derivatives and Integrals\n",
    "\n",
    "* This is another very nice thing about B-Splines.\n",
    "* The derivative wrt to it's argument $x$ is\n",
    "\n",
    "\t$$ \\frac{d B_j^{k,\\mathbf{z}} (x)}{dx} = \\frac{k}{z_j - z_{j-k}} B_{j-1}^{k-1,\\mathbf{z}} (x)  + \\frac{k}{z_{j+1} - z_{j+1-k}} B_{j}^{k-1,\\mathbf{z}} (x), j=1,\\dots,n\n",
    "    $$\n",
    "    \n",
    "* Similarly, the Integral is just the sum over the basis functions:\n",
    "\t$$ \\int_a^x B_j^{k,\\mathbf{z}} (y) dy = \\sum_{i=j}^n \\frac{z_i - z_{i-k}}{k} B_{i+1}^{k+1,\\mathbf{z}} (x)  $$\n",
    "\n"
   ]
  },
  {
   "cell_type": "code",
   "execution_count": 12,
   "metadata": {
    "slideshow": {
     "slide_type": "subslide"
    }
   },
   "outputs": [
    {
     "ename": "LoadError",
     "evalue": "ArgumentError: Package ApproXD not found in current path:\n- Run `import Pkg; Pkg.add(\"ApproXD\")` to install the ApproXD package.\n",
     "output_type": "error",
     "traceback": [
      "ArgumentError: Package ApproXD not found in current path:\n- Run `import Pkg; Pkg.add(\"ApproXD\")` to install the ApproXD package.\n",
      "",
      "Stacktrace:",
      " [1] require(::Module, ::Symbol) at ./loading.jl:893",
      " [2] include_string(::Function, ::Module, ::String, ::String) at ./loading.jl:1091"
     ]
    }
   ],
   "source": [
    "using ApproXD   \n",
    "# ] dev https://github.com/floswald/ApproXD.jl\n",
    "bs = BSpline(7,3,0,1) #7 knots, degree 3 in [0,1]\n",
    "# how many basis functions? (go back 1 slide.)\n",
    "# getNumCoefs(bs)\n",
    "x = range(0,stop =1.0, length = 500)\n",
    "B = Array(getBasis(collect(x),bs))\n",
    "plot(x,B,layout=(3,3),grid=false,ylim=(-0.1,1.1),legend=false,linewidth=2,linecolor=:black)"
   ]
  },
  {
   "cell_type": "code",
   "execution_count": 13,
   "metadata": {
    "slideshow": {
     "slide_type": "subslide"
    }
   },
   "outputs": [
    {
     "ename": "LoadError",
     "evalue": "UndefVarError: x not defined",
     "output_type": "error",
     "traceback": [
      "UndefVarError: x not defined",
      "",
      "Stacktrace:",
      " [1] top-level scope at In[13]:2",
      " [2] include_string(::Function, ::Module, ::String, ::String) at ./loading.jl:1091"
     ]
    }
   ],
   "source": [
    "# Notice that placing each of those panels on top of each other generates a sparse matrix!\n",
    "plot(x,B,grid=false,ylim=(-0.1,1.1),legend=false)"
   ]
  },
  {
   "cell_type": "markdown",
   "metadata": {
    "slideshow": {
     "slide_type": "subslide"
    }
   },
   "source": [
    "## Linear B-Spline: A useful special case\n",
    "\n",
    "* This is *connecting the dots with a straight line*\n",
    "* This may incur some approximation error if the underlying function is very curved between the dots.\n",
    "* However, it has some benefits: \n",
    "\t* it is shape-preserving, \n",
    "\t* it is fast,\n",
    "\t* it is easy to build.\n",
    "* For a linear spline with evenly spaced breakpoints, this becomes almost trivial.\n",
    "\t* Let's define $h = \\frac{b-a}{n-1}$ as the distance between breakpoints.\n",
    "\t* Our basis function becomes very simple, giving us a measure of how far $x$ is from the next knot:\n",
    "    \n",
    "$$ \\phi_j (x) = \\begin{cases}\n",
    "    1 - \\frac{|x-z_j|}{h} & \\text{if } |x-z_j| \\leq h \\\\\n",
    "    0                    & \\text{otherwise}\n",
    "    \\end{cases} \n",
    "$$\n",
    "\n",
    "* Notice that each interior basis function (i.e. not 0 and not $n$) has witdth $2h$."
   ]
  },
  {
   "cell_type": "code",
   "execution_count": 14,
   "metadata": {
    "slideshow": {
     "slide_type": "subslide"
    }
   },
   "outputs": [
    {
     "ename": "LoadError",
     "evalue": "UndefVarError: BSpline not defined",
     "output_type": "error",
     "traceback": [
      "UndefVarError: BSpline not defined",
      "",
      "Stacktrace:",
      " [1] top-level scope at In[14]:1",
      " [2] include_string(::Function, ::Module, ::String, ::String) at ./loading.jl:1091"
     ]
    }
   ],
   "source": [
    "bs = BSpline(9,1,0,1) #9 knots, degree 1 in [0,1]\n",
    "x = range(0,stop = 1.0,length = 500)\n",
    "B = Array(getBasis(collect(x),bs))\n",
    "plot(x,B,layout=(3,3),grid=false,ylim=(-0.1,1.1),legend=false,linewidth=2,linecolor=:black)"
   ]
  },
  {
   "cell_type": "markdown",
   "metadata": {
    "slideshow": {
     "slide_type": "subslide"
    }
   },
   "source": [
    "## Linear B-Spline: Evaluation\n",
    "\n",
    "* In order to evaluate the linear interpolator, we need to know only one thing: Which knot span is active, i.e. what is $j$ s.t. $x\\in [z_j, z_{j+1}]$?\n",
    "* This is a classic problem in computer science. Binary search.\n",
    "* `julia` implements [`searchsortedlast`](http://docs.julialang.org/en/release-0.4/stdlib/sort/#Base.searchsortedlast).\t\n",
    "* Once we know $j$, it's easy to get the interpolated value as\n",
    "\t$$ \\hat{f}(x) = \\frac{x-z_j}{h}  f(z_{j+1}) + \\frac{z_{j+1}-x}{h}  f(z_{j}) $$\n",
    "\n",
    "\n"
   ]
  },
  {
   "cell_type": "markdown",
   "metadata": {
    "slideshow": {
     "slide_type": "subslide"
    }
   },
   "source": [
    "## The Importance of Knot Placement\n",
    "\n",
    "* We just talked about *equally spaced knots*. This is just a special case.\n",
    "* B-Splines give us the flexibility to place the knots where we want.\n",
    "* Contrary to Polynomial interpolations (where we cannot choose the evaluation nodes), this is very helpful in cases where we know that a function is very curved in a particular region.\n",
    "* Canonical Example: Runge's function: $f(x) = (1+25x^2)^{-1}$.\n",
    "* Also: If you know that your function has a kink (i.e. a discontinuous first derivative) at $\\hat{x}$, then you can stack breakpoints on top of each other *at* $\\hat{x}$\n",
    "* That's going to be part of your homework!"
   ]
  },
  {
   "cell_type": "code",
   "execution_count": 15,
   "metadata": {
    "slideshow": {
     "slide_type": "subslide"
    }
   },
   "outputs": [
    {
     "data": {
      "image/svg+xml": [
       "<?xml version=\"1.0\" encoding=\"utf-8\"?>\n",
       "<svg xmlns=\"http://www.w3.org/2000/svg\" xmlns:xlink=\"http://www.w3.org/1999/xlink\" width=\"600\" height=\"400\" viewBox=\"0 0 2400 1600\">\n",
       "<defs>\n",
       "  <clipPath id=\"clip940\">\n",
       "    <rect x=\"0\" y=\"0\" width=\"2400\" height=\"1600\"/>\n",
       "  </clipPath>\n",
       "</defs>\n",
       "<path clip-path=\"url(#clip940)\" d=\"\n",
       "M0 1600 L2400 1600 L2400 0 L0 0  Z\n",
       "  \" fill=\"#ffffff\" fill-rule=\"evenodd\" fill-opacity=\"1\"/>\n",
       "<defs>\n",
       "  <clipPath id=\"clip941\">\n",
       "    <rect x=\"480\" y=\"0\" width=\"1681\" height=\"1600\"/>\n",
       "  </clipPath>\n",
       "</defs>\n",
       "<path clip-path=\"url(#clip940)\" d=\"\n",
       "M174.862 1486.45 L2352.76 1486.45 L2352.76 47.2441 L174.862 47.2441  Z\n",
       "  \" fill=\"#ffffff\" fill-rule=\"evenodd\" fill-opacity=\"1\"/>\n",
       "<defs>\n",
       "  <clipPath id=\"clip942\">\n",
       "    <rect x=\"174\" y=\"47\" width=\"2179\" height=\"1440\"/>\n",
       "  </clipPath>\n",
       "</defs>\n",
       "<polyline clip-path=\"url(#clip942)\" style=\"stroke:#000000; stroke-width:2; stroke-opacity:0.1; fill:none\" points=\"\n",
       "  441.962,1486.45 441.962,47.2441 \n",
       "  \"/>\n",
       "<polyline clip-path=\"url(#clip942)\" style=\"stroke:#000000; stroke-width:2; stroke-opacity:0.1; fill:none\" points=\"\n",
       "  852.886,1486.45 852.886,47.2441 \n",
       "  \"/>\n",
       "<polyline clip-path=\"url(#clip942)\" style=\"stroke:#000000; stroke-width:2; stroke-opacity:0.1; fill:none\" points=\"\n",
       "  1263.81,1486.45 1263.81,47.2441 \n",
       "  \"/>\n",
       "<polyline clip-path=\"url(#clip942)\" style=\"stroke:#000000; stroke-width:2; stroke-opacity:0.1; fill:none\" points=\"\n",
       "  1674.73,1486.45 1674.73,47.2441 \n",
       "  \"/>\n",
       "<polyline clip-path=\"url(#clip942)\" style=\"stroke:#000000; stroke-width:2; stroke-opacity:0.1; fill:none\" points=\"\n",
       "  2085.66,1486.45 2085.66,47.2441 \n",
       "  \"/>\n",
       "<polyline clip-path=\"url(#clip942)\" style=\"stroke:#000000; stroke-width:2; stroke-opacity:0.1; fill:none\" points=\"\n",
       "  174.862,1447.89 2352.76,1447.89 \n",
       "  \"/>\n",
       "<polyline clip-path=\"url(#clip942)\" style=\"stroke:#000000; stroke-width:2; stroke-opacity:0.1; fill:none\" points=\"\n",
       "  174.862,1107.64 2352.76,1107.64 \n",
       "  \"/>\n",
       "<polyline clip-path=\"url(#clip942)\" style=\"stroke:#000000; stroke-width:2; stroke-opacity:0.1; fill:none\" points=\"\n",
       "  174.862,767.394 2352.76,767.394 \n",
       "  \"/>\n",
       "<polyline clip-path=\"url(#clip942)\" style=\"stroke:#000000; stroke-width:2; stroke-opacity:0.1; fill:none\" points=\"\n",
       "  174.862,427.146 2352.76,427.146 \n",
       "  \"/>\n",
       "<polyline clip-path=\"url(#clip942)\" style=\"stroke:#000000; stroke-width:2; stroke-opacity:0.1; fill:none\" points=\"\n",
       "  174.862,86.8983 2352.76,86.8983 \n",
       "  \"/>\n",
       "<polyline clip-path=\"url(#clip940)\" style=\"stroke:#000000; stroke-width:4; stroke-opacity:1; fill:none\" points=\"\n",
       "  174.862,1486.45 2352.76,1486.45 \n",
       "  \"/>\n",
       "<polyline clip-path=\"url(#clip940)\" style=\"stroke:#000000; stroke-width:4; stroke-opacity:1; fill:none\" points=\"\n",
       "  174.862,1486.45 174.862,47.2441 \n",
       "  \"/>\n",
       "<polyline clip-path=\"url(#clip940)\" style=\"stroke:#000000; stroke-width:4; stroke-opacity:1; fill:none\" points=\"\n",
       "  441.962,1486.45 441.962,1469.18 \n",
       "  \"/>\n",
       "<polyline clip-path=\"url(#clip940)\" style=\"stroke:#000000; stroke-width:4; stroke-opacity:1; fill:none\" points=\"\n",
       "  852.886,1486.45 852.886,1469.18 \n",
       "  \"/>\n",
       "<polyline clip-path=\"url(#clip940)\" style=\"stroke:#000000; stroke-width:4; stroke-opacity:1; fill:none\" points=\"\n",
       "  1263.81,1486.45 1263.81,1469.18 \n",
       "  \"/>\n",
       "<polyline clip-path=\"url(#clip940)\" style=\"stroke:#000000; stroke-width:4; stroke-opacity:1; fill:none\" points=\"\n",
       "  1674.73,1486.45 1674.73,1469.18 \n",
       "  \"/>\n",
       "<polyline clip-path=\"url(#clip940)\" style=\"stroke:#000000; stroke-width:4; stroke-opacity:1; fill:none\" points=\"\n",
       "  2085.66,1486.45 2085.66,1469.18 \n",
       "  \"/>\n",
       "<polyline clip-path=\"url(#clip940)\" style=\"stroke:#000000; stroke-width:4; stroke-opacity:1; fill:none\" points=\"\n",
       "  174.862,1447.89 200.997,1447.89 \n",
       "  \"/>\n",
       "<polyline clip-path=\"url(#clip940)\" style=\"stroke:#000000; stroke-width:4; stroke-opacity:1; fill:none\" points=\"\n",
       "  174.862,1107.64 200.997,1107.64 \n",
       "  \"/>\n",
       "<polyline clip-path=\"url(#clip940)\" style=\"stroke:#000000; stroke-width:4; stroke-opacity:1; fill:none\" points=\"\n",
       "  174.862,767.394 200.997,767.394 \n",
       "  \"/>\n",
       "<polyline clip-path=\"url(#clip940)\" style=\"stroke:#000000; stroke-width:4; stroke-opacity:1; fill:none\" points=\"\n",
       "  174.862,427.146 200.997,427.146 \n",
       "  \"/>\n",
       "<polyline clip-path=\"url(#clip940)\" style=\"stroke:#000000; stroke-width:4; stroke-opacity:1; fill:none\" points=\"\n",
       "  174.862,86.8983 200.997,86.8983 \n",
       "  \"/>\n",
       "<path clip-path=\"url(#clip940)\" d=\"M 0 0 M413.374 1523.09 L443.05 1523.09 L443.05 1527.03 L413.374 1527.03 L413.374 1523.09 Z\" fill=\"#000000\" fill-rule=\"evenodd\" fill-opacity=\"1\" /><path clip-path=\"url(#clip940)\" d=\"M 0 0 M460.967 1509.43 L449.161 1527.88 L460.967 1527.88 L460.967 1509.43 M459.74 1505.36 L465.619 1505.36 L465.619 1527.88 L470.55 1527.88 L470.55 1531.77 L465.619 1531.77 L465.619 1539.92 L460.967 1539.92 L460.967 1531.77 L445.365 1531.77 L445.365 1527.26 L459.74 1505.36 Z\" fill=\"#000000\" fill-rule=\"evenodd\" fill-opacity=\"1\" /><path clip-path=\"url(#clip940)\" d=\"M 0 0 M825.339 1523.09 L855.015 1523.09 L855.015 1527.03 L825.339 1527.03 L825.339 1523.09 Z\" fill=\"#000000\" fill-rule=\"evenodd\" fill-opacity=\"1\" /><path clip-path=\"url(#clip940)\" d=\"M 0 0 M864.112 1535.98 L880.432 1535.98 L880.432 1539.92 L858.487 1539.92 L858.487 1535.98 Q861.149 1533.23 865.733 1528.6 Q870.339 1523.95 871.52 1522.61 Q873.765 1520.08 874.645 1518.35 Q875.548 1516.59 875.548 1514.9 Q875.548 1512.14 873.603 1510.41 Q871.682 1508.67 868.58 1508.67 Q866.381 1508.67 863.927 1509.43 Q861.497 1510.2 858.719 1511.75 L858.719 1507.03 Q861.543 1505.89 863.997 1505.31 Q866.45 1504.73 868.487 1504.73 Q873.858 1504.73 877.052 1507.42 Q880.247 1510.11 880.247 1514.6 Q880.247 1516.73 879.436 1518.65 Q878.649 1520.54 876.543 1523.14 Q875.964 1523.81 872.862 1527.03 Q869.761 1530.22 864.112 1535.98 Z\" fill=\"#000000\" fill-rule=\"evenodd\" fill-opacity=\"1\" /><path clip-path=\"url(#clip940)\" d=\"M 0 0 M1263.81 1508.44 Q1260.2 1508.44 1258.37 1512 Q1256.56 1515.55 1256.56 1522.67 Q1256.56 1529.78 1258.37 1533.35 Q1260.2 1536.89 1263.81 1536.89 Q1267.44 1536.89 1269.25 1533.35 Q1271.08 1529.78 1271.08 1522.67 Q1271.08 1515.55 1269.25 1512 Q1267.44 1508.44 1263.81 1508.44 M1263.81 1504.73 Q1269.62 1504.73 1272.67 1509.34 Q1275.75 1513.92 1275.75 1522.67 Q1275.75 1531.4 1272.67 1536.01 Q1269.62 1540.59 1263.81 1540.59 Q1258 1540.59 1254.92 1536.01 Q1251.86 1531.4 1251.86 1522.67 Q1251.86 1513.92 1254.92 1509.34 Q1258 1504.73 1263.81 1504.73 Z\" fill=\"#000000\" fill-rule=\"evenodd\" fill-opacity=\"1\" /><path clip-path=\"url(#clip940)\" d=\"M 0 0 M1669.39 1535.98 L1685.7 1535.98 L1685.7 1539.92 L1663.76 1539.92 L1663.76 1535.98 Q1666.42 1533.23 1671.01 1528.6 Q1675.61 1523.95 1676.79 1522.61 Q1679.04 1520.08 1679.92 1518.35 Q1680.82 1516.59 1680.82 1514.9 Q1680.82 1512.14 1678.88 1510.41 Q1676.95 1508.67 1673.85 1508.67 Q1671.65 1508.67 1669.2 1509.43 Q1666.77 1510.2 1663.99 1511.75 L1663.99 1507.03 Q1666.82 1505.89 1669.27 1505.31 Q1671.72 1504.73 1673.76 1504.73 Q1679.13 1504.73 1682.32 1507.42 Q1685.52 1510.11 1685.52 1514.6 Q1685.52 1516.73 1684.71 1518.65 Q1683.92 1520.54 1681.82 1523.14 Q1681.24 1523.81 1678.14 1527.03 Q1675.03 1530.22 1669.39 1535.98 Z\" fill=\"#000000\" fill-rule=\"evenodd\" fill-opacity=\"1\" /><path clip-path=\"url(#clip940)\" d=\"M 0 0 M2088.66 1509.43 L2076.86 1527.88 L2088.66 1527.88 L2088.66 1509.43 M2087.44 1505.36 L2093.32 1505.36 L2093.32 1527.88 L2098.25 1527.88 L2098.25 1531.77 L2093.32 1531.77 L2093.32 1539.92 L2088.66 1539.92 L2088.66 1531.77 L2073.06 1531.77 L2073.06 1527.26 L2087.44 1505.36 Z\" fill=\"#000000\" fill-rule=\"evenodd\" fill-opacity=\"1\" /><path clip-path=\"url(#clip940)\" d=\"M 0 0 M74.9365 1433.69 Q71.3254 1433.69 69.4967 1437.25 Q67.6912 1440.79 67.6912 1447.92 Q67.6912 1455.03 69.4967 1458.6 Q71.3254 1462.14 74.9365 1462.14 Q78.5707 1462.14 80.3763 1458.6 Q82.205 1455.03 82.205 1447.92 Q82.205 1440.79 80.3763 1437.25 Q78.5707 1433.69 74.9365 1433.69 M74.9365 1429.98 Q80.7467 1429.98 83.8022 1434.59 Q86.8809 1439.17 86.8809 1447.92 Q86.8809 1456.65 83.8022 1461.26 Q80.7467 1465.84 74.9365 1465.84 Q69.1264 1465.84 66.0477 1461.26 Q62.9921 1456.65 62.9921 1447.92 Q62.9921 1439.17 66.0477 1434.59 Q69.1264 1429.98 74.9365 1429.98 Z\" fill=\"#000000\" fill-rule=\"evenodd\" fill-opacity=\"1\" /><path clip-path=\"url(#clip940)\" d=\"M 0 0 M91.9503 1459.29 L96.8345 1459.29 L96.8345 1465.17 L91.9503 1465.17 L91.9503 1459.29 Z\" fill=\"#000000\" fill-rule=\"evenodd\" fill-opacity=\"1\" /><path clip-path=\"url(#clip940)\" d=\"M 0 0 M111.904 1433.69 Q108.293 1433.69 106.464 1437.25 Q104.659 1440.79 104.659 1447.92 Q104.659 1455.03 106.464 1458.6 Q108.293 1462.14 111.904 1462.14 Q115.538 1462.14 117.344 1458.6 Q119.172 1455.03 119.172 1447.92 Q119.172 1440.79 117.344 1437.25 Q115.538 1433.69 111.904 1433.69 M111.904 1429.98 Q117.714 1429.98 120.77 1434.59 Q123.848 1439.17 123.848 1447.92 Q123.848 1456.65 120.77 1461.26 Q117.714 1465.84 111.904 1465.84 Q106.094 1465.84 103.015 1461.26 Q99.9595 1456.65 99.9595 1447.92 Q99.9595 1439.17 103.015 1434.59 Q106.094 1429.98 111.904 1429.98 Z\" fill=\"#000000\" fill-rule=\"evenodd\" fill-opacity=\"1\" /><path clip-path=\"url(#clip940)\" d=\"M 0 0 M138.918 1433.69 Q135.307 1433.69 133.478 1437.25 Q131.672 1440.79 131.672 1447.92 Q131.672 1455.03 133.478 1458.6 Q135.307 1462.14 138.918 1462.14 Q142.552 1462.14 144.357 1458.6 Q146.186 1455.03 146.186 1447.92 Q146.186 1440.79 144.357 1437.25 Q142.552 1433.69 138.918 1433.69 M138.918 1429.98 Q144.728 1429.98 147.783 1434.59 Q150.862 1439.17 150.862 1447.92 Q150.862 1456.65 147.783 1461.26 Q144.728 1465.84 138.918 1465.84 Q133.107 1465.84 130.029 1461.26 Q126.973 1456.65 126.973 1447.92 Q126.973 1439.17 130.029 1434.59 Q133.107 1429.98 138.918 1429.98 Z\" fill=\"#000000\" fill-rule=\"evenodd\" fill-opacity=\"1\" /><path clip-path=\"url(#clip940)\" d=\"M 0 0 M77.5291 1093.44 Q73.918 1093.44 72.0893 1097.01 Q70.2838 1100.55 70.2838 1107.68 Q70.2838 1114.78 72.0893 1118.35 Q73.918 1121.89 77.5291 1121.89 Q81.1633 1121.89 82.9689 1118.35 Q84.7976 1114.78 84.7976 1107.68 Q84.7976 1100.55 82.9689 1097.01 Q81.1633 1093.44 77.5291 1093.44 M77.5291 1089.74 Q83.3392 1089.74 86.3948 1094.34 Q89.4735 1098.93 89.4735 1107.68 Q89.4735 1116.4 86.3948 1121.01 Q83.3392 1125.59 77.5291 1125.59 Q71.7189 1125.59 68.6402 1121.01 Q65.5847 1116.4 65.5847 1107.68 Q65.5847 1098.93 68.6402 1094.34 Q71.7189 1089.74 77.5291 1089.74 Z\" fill=\"#000000\" fill-rule=\"evenodd\" fill-opacity=\"1\" /><path clip-path=\"url(#clip940)\" d=\"M 0 0 M94.5429 1119.04 L99.4271 1119.04 L99.4271 1124.92 L94.5429 1124.92 L94.5429 1119.04 Z\" fill=\"#000000\" fill-rule=\"evenodd\" fill-opacity=\"1\" /><path clip-path=\"url(#clip940)\" d=\"M 0 0 M108.524 1120.99 L124.844 1120.99 L124.844 1124.92 L102.899 1124.92 L102.899 1120.99 Q105.561 1118.23 110.145 1113.6 Q114.751 1108.95 115.932 1107.61 Q118.177 1105.08 119.057 1103.35 Q119.959 1101.59 119.959 1099.9 Q119.959 1097.14 118.015 1095.41 Q116.094 1093.67 112.992 1093.67 Q110.793 1093.67 108.339 1094.44 Q105.909 1095.2 103.131 1096.75 L103.131 1092.03 Q105.955 1090.89 108.409 1090.32 Q110.862 1089.74 112.899 1089.74 Q118.27 1089.74 121.464 1092.42 Q124.658 1095.11 124.658 1099.6 Q124.658 1101.73 123.848 1103.65 Q123.061 1105.55 120.955 1108.14 Q120.376 1108.81 117.274 1112.03 Q114.172 1115.22 108.524 1120.99 Z\" fill=\"#000000\" fill-rule=\"evenodd\" fill-opacity=\"1\" /><path clip-path=\"url(#clip940)\" d=\"M 0 0 M129.959 1090.36 L148.316 1090.36 L148.316 1094.3 L134.242 1094.3 L134.242 1102.77 Q135.26 1102.42 136.279 1102.26 Q137.297 1102.07 138.316 1102.07 Q144.103 1102.07 147.482 1105.25 Q150.862 1108.42 150.862 1113.83 Q150.862 1119.41 147.39 1122.51 Q143.918 1125.59 137.598 1125.59 Q135.422 1125.59 133.154 1125.22 Q130.908 1124.85 128.501 1124.11 L128.501 1119.41 Q130.584 1120.55 132.807 1121.1 Q135.029 1121.66 137.506 1121.66 Q141.51 1121.66 143.848 1119.55 Q146.186 1117.45 146.186 1113.83 Q146.186 1110.22 143.848 1108.12 Q141.51 1106.01 137.506 1106.01 Q135.631 1106.01 133.756 1106.43 Q131.904 1106.84 129.959 1107.72 L129.959 1090.36 Z\" fill=\"#000000\" fill-rule=\"evenodd\" fill-opacity=\"1\" /><path clip-path=\"url(#clip940)\" d=\"M 0 0 M75.9319 753.193 Q72.3208 753.193 70.4921 756.758 Q68.6865 760.299 68.6865 767.429 Q68.6865 774.535 70.4921 778.1 Q72.3208 781.642 75.9319 781.642 Q79.5661 781.642 81.3717 778.1 Q83.2004 774.535 83.2004 767.429 Q83.2004 760.299 81.3717 756.758 Q79.5661 753.193 75.9319 753.193 M75.9319 749.489 Q81.742 749.489 84.7976 754.096 Q87.8763 758.679 87.8763 767.429 Q87.8763 776.156 84.7976 780.762 Q81.742 785.345 75.9319 785.345 Q70.1217 785.345 67.043 780.762 Q63.9875 776.156 63.9875 767.429 Q63.9875 758.679 67.043 754.096 Q70.1217 749.489 75.9319 749.489 Z\" fill=\"#000000\" fill-rule=\"evenodd\" fill-opacity=\"1\" /><path clip-path=\"url(#clip940)\" d=\"M 0 0 M92.9457 778.794 L97.8299 778.794 L97.8299 784.674 L92.9457 784.674 L92.9457 778.794 Z\" fill=\"#000000\" fill-rule=\"evenodd\" fill-opacity=\"1\" /><path clip-path=\"url(#clip940)\" d=\"M 0 0 M102.946 750.114 L121.302 750.114 L121.302 754.049 L107.228 754.049 L107.228 762.521 Q108.247 762.174 109.265 762.012 Q110.284 761.827 111.302 761.827 Q117.089 761.827 120.469 764.998 Q123.848 768.17 123.848 773.586 Q123.848 779.165 120.376 782.267 Q116.904 785.345 110.584 785.345 Q108.409 785.345 106.14 784.975 Q103.895 784.605 101.487 783.864 L101.487 779.165 Q103.571 780.299 105.793 780.855 Q108.015 781.41 110.492 781.41 Q114.496 781.41 116.834 779.304 Q119.172 777.197 119.172 773.586 Q119.172 769.975 116.834 767.869 Q114.496 765.762 110.492 765.762 Q108.617 765.762 106.742 766.179 Q104.89 766.595 102.946 767.475 L102.946 750.114 Z\" fill=\"#000000\" fill-rule=\"evenodd\" fill-opacity=\"1\" /><path clip-path=\"url(#clip940)\" d=\"M 0 0 M138.918 753.193 Q135.307 753.193 133.478 756.758 Q131.672 760.299 131.672 767.429 Q131.672 774.535 133.478 778.1 Q135.307 781.642 138.918 781.642 Q142.552 781.642 144.357 778.1 Q146.186 774.535 146.186 767.429 Q146.186 760.299 144.357 756.758 Q142.552 753.193 138.918 753.193 M138.918 749.489 Q144.728 749.489 147.783 754.096 Q150.862 758.679 150.862 767.429 Q150.862 776.156 147.783 780.762 Q144.728 785.345 138.918 785.345 Q133.107 785.345 130.029 780.762 Q126.973 776.156 126.973 767.429 Q126.973 758.679 130.029 754.096 Q133.107 749.489 138.918 749.489 Z\" fill=\"#000000\" fill-rule=\"evenodd\" fill-opacity=\"1\" /><path clip-path=\"url(#clip940)\" d=\"M 0 0 M76.8346 412.945 Q73.2236 412.945 71.3949 416.51 Q69.5893 420.051 69.5893 427.181 Q69.5893 434.287 71.3949 437.852 Q73.2236 441.394 76.8346 441.394 Q80.4689 441.394 82.2744 437.852 Q84.1031 434.287 84.1031 427.181 Q84.1031 420.051 82.2744 416.51 Q80.4689 412.945 76.8346 412.945 M76.8346 409.241 Q82.6448 409.241 85.7003 413.848 Q88.779 418.431 88.779 427.181 Q88.779 435.908 85.7003 440.514 Q82.6448 445.097 76.8346 445.097 Q71.0245 445.097 67.9458 440.514 Q64.8903 435.908 64.8903 427.181 Q64.8903 418.431 67.9458 413.848 Q71.0245 409.241 76.8346 409.241 Z\" fill=\"#000000\" fill-rule=\"evenodd\" fill-opacity=\"1\" /><path clip-path=\"url(#clip940)\" d=\"M 0 0 M93.8484 438.547 L98.7327 438.547 L98.7327 444.426 L93.8484 444.426 L93.8484 438.547 Z\" fill=\"#000000\" fill-rule=\"evenodd\" fill-opacity=\"1\" /><path clip-path=\"url(#clip940)\" d=\"M 0 0 M102.622 409.866 L124.844 409.866 L124.844 411.857 L112.297 444.426 L107.413 444.426 L119.219 413.801 L102.622 413.801 L102.622 409.866 Z\" fill=\"#000000\" fill-rule=\"evenodd\" fill-opacity=\"1\" /><path clip-path=\"url(#clip940)\" d=\"M 0 0 M129.959 409.866 L148.316 409.866 L148.316 413.801 L134.242 413.801 L134.242 422.274 Q135.26 421.926 136.279 421.764 Q137.297 421.579 138.316 421.579 Q144.103 421.579 147.482 424.75 Q150.862 427.922 150.862 433.338 Q150.862 438.917 147.39 442.019 Q143.918 445.097 137.598 445.097 Q135.422 445.097 133.154 444.727 Q130.908 444.357 128.501 443.616 L128.501 438.917 Q130.584 440.051 132.807 440.607 Q135.029 441.162 137.506 441.162 Q141.51 441.162 143.848 439.056 Q146.186 436.949 146.186 433.338 Q146.186 429.727 143.848 427.621 Q141.51 425.514 137.506 425.514 Q135.631 425.514 133.756 425.931 Q131.904 426.348 129.959 427.227 L129.959 409.866 Z\" fill=\"#000000\" fill-rule=\"evenodd\" fill-opacity=\"1\" /><path clip-path=\"url(#clip940)\" d=\"M 0 0 M66.9736 100.243 L74.6124 100.243 L74.6124 73.8775 L66.3023 75.5442 L66.3023 71.2849 L74.5661 69.6183 L79.242 69.6183 L79.242 100.243 L86.8809 100.243 L86.8809 104.178 L66.9736 104.178 L66.9736 100.243 Z\" fill=\"#000000\" fill-rule=\"evenodd\" fill-opacity=\"1\" /><path clip-path=\"url(#clip940)\" d=\"M 0 0 M91.9503 98.2987 L96.8345 98.2987 L96.8345 104.178 L91.9503 104.178 L91.9503 98.2987 Z\" fill=\"#000000\" fill-rule=\"evenodd\" fill-opacity=\"1\" /><path clip-path=\"url(#clip940)\" d=\"M 0 0 M111.904 72.697 Q108.293 72.697 106.464 76.2618 Q104.659 79.8034 104.659 86.933 Q104.659 94.0395 106.464 97.6043 Q108.293 101.146 111.904 101.146 Q115.538 101.146 117.344 97.6043 Q119.172 94.0395 119.172 86.933 Q119.172 79.8034 117.344 76.2618 Q115.538 72.697 111.904 72.697 M111.904 68.9933 Q117.714 68.9933 120.77 73.5998 Q123.848 78.1831 123.848 86.933 Q123.848 95.6598 120.77 100.266 Q117.714 104.85 111.904 104.85 Q106.094 104.85 103.015 100.266 Q99.9595 95.6598 99.9595 86.933 Q99.9595 78.1831 103.015 73.5998 Q106.094 68.9933 111.904 68.9933 Z\" fill=\"#000000\" fill-rule=\"evenodd\" fill-opacity=\"1\" /><path clip-path=\"url(#clip940)\" d=\"M 0 0 M138.918 72.697 Q135.307 72.697 133.478 76.2618 Q131.672 79.8034 131.672 86.933 Q131.672 94.0395 133.478 97.6043 Q135.307 101.146 138.918 101.146 Q142.552 101.146 144.357 97.6043 Q146.186 94.0395 146.186 86.933 Q146.186 79.8034 144.357 76.2618 Q142.552 72.697 138.918 72.697 M138.918 68.9933 Q144.728 68.9933 147.783 73.5998 Q150.862 78.1831 150.862 86.933 Q150.862 95.6598 147.783 100.266 Q144.728 104.85 138.918 104.85 Q133.107 104.85 130.029 100.266 Q126.973 95.6598 126.973 86.933 Q126.973 78.1831 130.029 73.5998 Q133.107 68.9933 138.918 68.9933 Z\" fill=\"#000000\" fill-rule=\"evenodd\" fill-opacity=\"1\" /><polyline clip-path=\"url(#clip942)\" style=\"stroke:#009af9; stroke-width:4; stroke-opacity:1; fill:none\" points=\"\n",
       "  236.501,1445.72 256.566,1445.63 442.096,1444.49 553.591,1443.35 647.86,1441.86 750.262,1439.23 844.667,1434.93 895.273,1431.18 945.879,1425.53 1004.51,1414.55 \n",
       "  1063.14,1393.11 1089.2,1376.47 1115.25,1351.16 1128.28,1333.31 1141.3,1310.25 1154.33,1279.83 1167.36,1238.81 1173.07,1216.29 1178.78,1190.22 1184.49,1159.91 \n",
       "  1190.2,1124.51 1195.91,1083.02 1201.62,1034.22 1207.34,976.749 1213.05,909.097 1218.76,829.798 1224.47,737.739 1230.18,632.769 1235.89,516.67 1241.6,394.479 \n",
       "  1247.32,275.727 1250.17,221.924 1253.03,174.555 1255.88,135.714 1258.74,107.307 1261.85,89.9768 1264.97,87.9763 1268.08,101.44 1271.19,129.469 1274.31,170.276 \n",
       "  1277.42,221.455 1280.53,280.307 1283.65,344.143 1289.87,477.378 1296.1,606.5 1302.33,723.451 1308.56,825.223 1314.78,911.799 1321.01,984.597 1327.24,1045.53 \n",
       "  1333.46,1096.51 1339.69,1139.27 1345.92,1175.29 1352.14,1205.77 1358.37,1231.71 1370.9,1273.22 1383.43,1304.23 1395.96,1327.89 1408.48,1346.29 1433.54,1372.53 \n",
       "  1458.6,1389.9 1514,1412.14 1569.41,1423.72 1622.13,1430.22 1674.84,1434.42 1784.47,1439.46 1876.75,1441.8 1989.42,1443.54 2095.33,1444.57 2265,1445.6 \n",
       "  2291.12,1445.72 \n",
       "  \"/>\n",
       "<path clip-path=\"url(#clip940)\" d=\"\n",
       "M1987.15 216.178 L2280.16 216.178 L2280.16 95.2176 L1987.15 95.2176  Z\n",
       "  \" fill=\"#ffffff\" fill-rule=\"evenodd\" fill-opacity=\"1\"/>\n",
       "<polyline clip-path=\"url(#clip940)\" style=\"stroke:#000000; stroke-width:4; stroke-opacity:1; fill:none\" points=\"\n",
       "  1987.15,216.178 2280.16,216.178 2280.16,95.2176 1987.15,95.2176 1987.15,216.178 \n",
       "  \"/>\n",
       "<polyline clip-path=\"url(#clip940)\" style=\"stroke:#009af9; stroke-width:4; stroke-opacity:1; fill:none\" points=\"\n",
       "  2011.35,155.698 2156.54,155.698 \n",
       "  \"/>\n",
       "<path clip-path=\"url(#clip940)\" d=\"M 0 0 M2194.59 175.385 Q2192.78 180.015 2191.07 181.427 Q2189.35 182.839 2186.48 182.839 L2183.08 182.839 L2183.08 179.274 L2185.58 179.274 Q2187.34 179.274 2188.31 178.44 Q2189.29 177.607 2190.47 174.505 L2191.23 172.561 L2180.74 147.052 L2185.26 147.052 L2193.36 167.329 L2201.46 147.052 L2205.97 147.052 L2194.59 175.385 Z\" fill=\"#000000\" fill-rule=\"evenodd\" fill-opacity=\"1\" /><path clip-path=\"url(#clip940)\" d=\"M 0 0 M2211.85 169.042 L2219.49 169.042 L2219.49 142.677 L2211.18 144.343 L2211.18 140.084 L2219.45 138.418 L2224.12 138.418 L2224.12 169.042 L2231.76 169.042 L2231.76 172.978 L2211.85 172.978 L2211.85 169.042 Z\" fill=\"#000000\" fill-rule=\"evenodd\" fill-opacity=\"1\" /></svg>\n"
      ]
     },
     "execution_count": 15,
     "metadata": {},
     "output_type": "execute_result"
    }
   ],
   "source": [
    "gg(x) = (1+25x^2)^(-1)\n",
    "plot(gg)"
   ]
  },
  {
   "cell_type": "markdown",
   "metadata": {
    "slideshow": {
     "slide_type": "slide"
    }
   },
   "source": [
    "## Interpolation with [`Interpolations.jl`](https://github.com/JuliaMath/Interpolations.jl)\n",
    "\n",
    "* Interpolations.jl assumes that data is uniformly spaced on grid `1:N`\n",
    "* Same for multiple dimensions\n",
    "* However, we can scale `1:N` to different domains\n",
    "* finally, we can also supply our own, non-uniform grids.\n",
    "* Can get gradients of interpolations right away."
   ]
  },
  {
   "cell_type": "code",
   "execution_count": 16,
   "metadata": {
    "slideshow": {
     "slide_type": "subslide"
    }
   },
   "outputs": [
    {
     "ename": "LoadError",
     "evalue": "ArgumentError: Package Interpolations not found in current path:\n- Run `import Pkg; Pkg.add(\"Interpolations\")` to install the Interpolations package.\n",
     "output_type": "error",
     "traceback": [
      "ArgumentError: Package Interpolations not found in current path:\n- Run `import Pkg; Pkg.add(\"Interpolations\")` to install the Interpolations package.\n",
      "",
      "Stacktrace:",
      " [1] require(::Module, ::Symbol) at ./loading.jl:893",
      " [2] include_string(::Function, ::Module, ::String, ::String) at ./loading.jl:1091"
     ]
    }
   ],
   "source": [
    "# interpolation\n",
    "# restart kernel!\n",
    "using Interpolations\n",
    "A = rand(10,5)\n",
    "itp = interpolate(A, Interpolations.BSpline(Quadratic(Reflect(OnCell()))))\n",
    "itp(1.9,4.9)"
   ]
  },
  {
   "cell_type": "code",
   "execution_count": 17,
   "metadata": {},
   "outputs": [
    {
     "ename": "LoadError",
     "evalue": "UndefVarError: A not defined",
     "output_type": "error",
     "traceback": [
      "UndefVarError: A not defined",
      "",
      "Stacktrace:",
      " [1] top-level scope",
      " [2] include_string(::Function, ::Module, ::String, ::String) at ./loading.jl:1091"
     ]
    }
   ],
   "source": [
    "A\n"
   ]
  },
  {
   "cell_type": "code",
   "execution_count": 18,
   "metadata": {},
   "outputs": [
    {
     "ename": "LoadError",
     "evalue": "UndefVarError: A not defined",
     "output_type": "error",
     "traceback": [
      "UndefVarError: A not defined",
      "",
      "Stacktrace:",
      " [1] top-level scope at In[18]:1",
      " [2] include_string(::Function, ::Module, ::String, ::String) at ./loading.jl:1091"
     ]
    }
   ],
   "source": [
    "A[2,5]"
   ]
  },
  {
   "cell_type": "code",
   "execution_count": 19,
   "metadata": {
    "slideshow": {
     "slide_type": "subslide"
    }
   },
   "outputs": [
    {
     "ename": "LoadError",
     "evalue": "UndefVarError: Interpolations not defined",
     "output_type": "error",
     "traceback": [
      "UndefVarError: Interpolations not defined",
      "",
      "Stacktrace:",
      " [1] top-level scope at In[19]:3",
      " [2] include_string(::Function, ::Module, ::String, ::String) at ./loading.jl:1091"
     ]
    }
   ],
   "source": [
    "A_x = 1.:2.:40.   # x in [1,40]\n",
    "A = [log(x) for x in A_x] # f(x)\n",
    "itp = interpolate(A, Interpolations.BSpline(Cubic(Interpolations.Line(OnGrid()))))\n",
    "sitp = scale(itp, A_x)  # scale x-axis of interpolator\n",
    "@show sitp(3.) # exactly log(3.)\n",
    "@show sitp(3.5) # approximately log(3.5)\n",
    "@show itp(3);  # is the 3rd index(!) in A, not the *value* 3"
   ]
  },
  {
   "cell_type": "code",
   "execution_count": 20,
   "metadata": {
    "slideshow": {
     "slide_type": "subslide"
    }
   },
   "outputs": [
    {
     "ename": "LoadError",
     "evalue": "UndefVarError: Interpolations not defined",
     "output_type": "error",
     "traceback": [
      "UndefVarError: Interpolations not defined",
      "",
      "Stacktrace:",
      " [1] top-level scope at In[20]:6",
      " [2] include_string(::Function, ::Module, ::String, ::String) at ./loading.jl:1091"
     ]
    }
   ],
   "source": [
    "# Same for 2D\n",
    "A_x1 = 1:.1:10\n",
    "A_x2 = 1:.5:20\n",
    "fff(x1, x2) = log(x1+x2)\n",
    "A = [fff(x1,x2) for x1 in A_x1, x2 in A_x2]\n",
    "itp = interpolate(A, Interpolations.BSpline(Cubic(Interpolations.Line(OnGrid()))))\n",
    "sitp = scale(itp, A_x1, A_x2)\n",
    "sitp(5., 10.) # exactly log(5 + 10)\n",
    "sitp(5.6, 7.1) # approximately log(5.6 + 7.1)"
   ]
  },
  {
   "cell_type": "markdown",
   "metadata": {
    "slideshow": {
     "slide_type": "subslide"
    }
   },
   "source": [
    "* Very often we need a **gridded** interpolation. I.e. we supply the function values on an irregular grid.\n",
    "* For this occasion, the `GriddedInterpolation` type is useful.\n",
    "* For now this only works in 3 modes: \n",
    "    * Gridded(Linear())\n",
    "    * Gridded(Constant())  nearest neighbor\n",
    "    * NoInterp (you must supply index ON grid)"
   ]
  },
  {
   "cell_type": "code",
   "execution_count": 21,
   "metadata": {
    "slideshow": {
     "slide_type": "subslide"
    }
   },
   "outputs": [
    {
     "ename": "LoadError",
     "evalue": "UndefVarError: Linear not defined",
     "output_type": "error",
     "traceback": [
      "UndefVarError: Linear not defined",
      "",
      "Stacktrace:",
      " [1] top-level scope at In[21]:4",
      " [2] include_string(::Function, ::Module, ::String, ::String) at ./loading.jl:1091"
     ]
    }
   ],
   "source": [
    "A = rand(20)\n",
    "A_x = collect(1.0:2.0:40.0)\n",
    "knots = (A_x,)\n",
    "itp = interpolate(knots, A, Gridded(Linear()))\n",
    "itp(2.0)"
   ]
  },
  {
   "cell_type": "code",
   "execution_count": 22,
   "metadata": {
    "slideshow": {
     "slide_type": "subslide"
    }
   },
   "outputs": [
    {
     "ename": "LoadError",
     "evalue": "UndefVarError: Linear not defined",
     "output_type": "error",
     "traceback": [
      "UndefVarError: Linear not defined",
      "",
      "Stacktrace:",
      " [1] top-level scope at In[22]:4",
      " [2] include_string(::Function, ::Module, ::String, ::String) at ./loading.jl:1091"
     ]
    }
   ],
   "source": [
    "# 2D\n",
    "A = rand(8,20)\n",
    "knots = ([x^2 for x = 1:8], [0.2y for y = 1:20])\n",
    "itp = interpolate(knots, A, Gridded(Linear()))\n",
    "itp(4,1.2)  # approximately A[2,6]"
   ]
  },
  {
   "cell_type": "code",
   "execution_count": 23,
   "metadata": {
    "slideshow": {
     "slide_type": "subslide"
    }
   },
   "outputs": [
    {
     "ename": "LoadError",
     "evalue": "UndefVarError: Linear not defined",
     "output_type": "error",
     "traceback": [
      "UndefVarError: Linear not defined",
      "",
      "Stacktrace:",
      " [1] top-level scope at In[23]:2",
      " [2] include_string(::Function, ::Module, ::String, ::String) at ./loading.jl:1091"
     ]
    }
   ],
   "source": [
    "# we can mix modes across dimensions!\n",
    "itp = interpolate(knots, A, (Gridded(Linear()),Gridded(Constant())))\n",
    "itp(4,1.2)"
   ]
  },
  {
   "cell_type": "markdown",
   "metadata": {
    "slideshow": {
     "slide_type": "subslide"
    }
   },
   "source": [
    "* What about vector valued interpolations?\n",
    "* Suppose we have a function $f : \\mathbb{R} \\mapsto \\mathbb{R}^2$\n",
    "* Economics example:\n",
    "\n",
    "$$  \n",
    "f(x) = \\left(\\begin{array}{c} \\text{savings}(x) \\\\ \\text{consumption}(x) \\end{array} \\right)\n",
    "$$\n",
    "\n",
    "* $x$ is cash on hand. \n",
    "* We often have situations where several functions are defined on a common support $x$.\n",
    "* what is $f(1.75)$?"
   ]
  },
  {
   "cell_type": "code",
   "execution_count": 24,
   "metadata": {
    "slideshow": {
     "slide_type": "subslide"
    }
   },
   "outputs": [
    {
     "ename": "LoadError",
     "evalue": "ArgumentError: Package StaticArrays not found in current path:\n- Run `import Pkg; Pkg.add(\"StaticArrays\")` to install the StaticArrays package.\n",
     "output_type": "error",
     "traceback": [
      "ArgumentError: Package StaticArrays not found in current path:\n- Run `import Pkg; Pkg.add(\"StaticArrays\")` to install the StaticArrays package.\n",
      "",
      "Stacktrace:",
      " [1] require(::Module, ::Symbol) at ./loading.jl:893",
      " [2] include_string(::Function, ::Module, ::String, ::String) at ./loading.jl:1091"
     ]
    }
   ],
   "source": [
    "using StaticArrays\n",
    "x = range(1,stop = 3, length = 200)  # cash on hand\n",
    "a = Float64[log(1+j)*i for j in x, i in 1:2]   # cons and save function\n",
    "b = reinterpret(SVector{2,Float64}, a')[:]\n",
    "itp = interpolate(b, Interpolations.BSpline(Quadratic(Reflect(OnCell()))))\n",
    "@show itp(3)\n",
    "sitp = scale(itp,x)\n",
    "@show sitp(3);"
   ]
  },
  {
   "cell_type": "code",
   "execution_count": 25,
   "metadata": {
    "slideshow": {
     "slide_type": "subslide"
    }
   },
   "outputs": [
    {
     "ename": "LoadError",
     "evalue": "UndefVarError: sitp not defined",
     "output_type": "error",
     "traceback": [
      "UndefVarError: sitp not defined",
      "",
      "Stacktrace:",
      " [1] top-level scope at In[25]:1",
      " [2] include_string(::Function, ::Module, ::String, ::String) at ./loading.jl:1091"
     ]
    }
   ],
   "source": [
    "v = sitp(1.75)  # get interpolated values for both function\n",
    "plot(x,a,labels=[\"save\",\"cons\"],yticks=convert(Array{Float64},v),xlabel=\"current cash\")\n",
    "vline!([1.75],lab=\"\")\n",
    "hline!([v[1],v[2]],lab=\"\")"
   ]
  },
  {
   "cell_type": "markdown",
   "metadata": {
    "slideshow": {
     "slide_type": "slide"
    }
   },
   "source": [
    "\n",
    "## The CompEcon Toolbox of Miranda and Fackler\n",
    "\n",
    "* another good alternative:\n",
    "* [CompEcon.jl](https://github.com/spencerlyon2/CompEcon.jl)\n",
    "\n"
   ]
  },
  {
   "cell_type": "markdown",
   "metadata": {
    "slideshow": {
     "slide_type": "slide"
    }
   },
   "source": [
    "## Multidimensional Approximation\n",
    "\n",
    "* Up to now, most of what we did was in one dimesion.\n",
    "* Economic problems *often* have more dimension than that.\n",
    "\t* The number of state variables in your value functions are the number of dimensions.\n",
    "* We can readily extend what we learned into more dimensions.\n",
    "* However, we will quickly run into feasibility problems: hello *curse of dimensionality*.\n",
    "\n"
   ]
  },
  {
   "cell_type": "markdown",
   "metadata": {
    "slideshow": {
     "slide_type": "subslide"
    }
   },
   "source": [
    "## Tensor Product of univariate Basis Functions: Product Rule\n",
    "\n",
    "* One possibility is to approximate e.g. the 2D function $f(x,y)$ by\n",
    "\t$$ \\hat{f}(x,y) = \\sum_{i=1}^n \\sum_{j=1}^m c_{i,j} \\phi_i^x(x) \\phi_j^y(y)  $$\n",
    "\t* here $\\phi_i^x$ is the basis function in $x$ space, \n",
    "\t* you can see that the coefficient vector $c_{i,j}$ is indexed in two dimensions now.\n",
    "\t* Notice that our initial notation was general enough to encompass this case, as we defined the basis functions as $\\mathbb{R}^d \\mapsto \\mathbb{R}$. So with the product rule, this mapping is just given by $\\phi_i^x(x) \\phi_j^y(y)$.\n",
    "* This formulation requires that we take the product of $\\phi_i^x(x), \\phi_j^y(y)$ at *all* combinations of their indices, as is clear from the summations.\n",
    "* This is equivalent to the tensor product between $\\phi_i^x$ and $\\phi_j^y$."
   ]
  },
  {
   "cell_type": "markdown",
   "metadata": {
    "slideshow": {
     "slide_type": "subslide"
    }
   },
   "source": [
    "## Computing Coefficients from Tensor Product Spaces \n",
    "\n",
    "* Extending this into $D$ dimensions, where in each dim $i$ we have $n_i$ basis functions, we get\n",
    "\t$$ \\hat{f}(x_1,x_2,\\dots,x_D) = \\sum_{i_1=1}^{n_1} \\sum_{i_2=1}^{n_2} \\dots  \\sum_{i_D=1}^{n_D} c_{i_1,i_2,\\dots,i_D} \\phi_{i_1}(x_1) \\phi_{i_2}(x_2) \\dots \\phi_{i_D}(x_D)  $$ \n",
    "* In Vector notation\n",
    "\t$$ \n",
    "\t\\hat{f}(x_1,x_2,\\dots,x_D) =  \\left[ \\phi_{D}(x_D) \\otimes \\phi_{D-1}(x_{D-1})  \\otimes \\dots  \\otimes  \\phi_{1}(x_1) \\right]  c $$\n",
    "\twhere $c$ is is an $n=\\Pi_{i=1}^D n_i$ column vector\n",
    "* The solution is the interpolation equation as before,\n",
    "\t$$ \\begin{aligned}\\Phi c =& y \\\\\n",
    "\t\t\t\t\t\\Phi   =& \\Phi_D \\otimes \\Phi_{D-1} \\otimes \\dots \\otimes \\Phi_{1} \\end{aligned} $$\n",
    "\n"
   ]
  },
  {
   "cell_type": "markdown",
   "metadata": {
    "slideshow": {
     "slide_type": "subslide"
    }
   },
   "source": [
    "### The Problem with Tensor Product of univariate Basis Functions\n",
    "\n",
    "* What's the problem?\n",
    "* Well, solving $\\Phi c = y$ is hard. \n",
    "* If we have as many evaluation points as basis functions in each dimension, i.e. if each single $\\Phi_i$ is a square matrix, $\\Phi$ is of size (n,n). \n",
    "* Inverting this is *extremely* hard even for moderately sized problems.\n",
    "* Sometimes it's not even possible to allocate $\\Phi$ in memory.\n",
    "* Here it's important to remember the sparsity structure of a spline basis function."
   ]
  },
  {
   "cell_type": "code",
   "execution_count": 26,
   "metadata": {
    "slideshow": {
     "slide_type": "subslide"
    }
   },
   "outputs": [
    {
     "ename": "LoadError",
     "evalue": "ArgumentError: Package ApproXD not found in current path:\n- Run `import Pkg; Pkg.add(\"ApproXD\")` to install the ApproXD package.\n",
     "output_type": "error",
     "traceback": [
      "ArgumentError: Package ApproXD not found in current path:\n- Run `import Pkg; Pkg.add(\"ApproXD\")` to install the ApproXD package.\n",
      "",
      "Stacktrace:",
      " [1] require(::Module, ::Symbol) at ./loading.jl:893",
      " [2] include_string(::Function, ::Module, ::String, ::String) at ./loading.jl:1091"
     ]
    }
   ],
   "source": [
    "using ApproXD\n",
    "gr()\n",
    "bs = ApproXD.BSpline(7,3,0,1) #7 knots, degree 3 in [0,1]\n",
    "n = 500\n",
    "eval_points = collect(range(0,stop = 1.0,length = n))\n",
    "B = Array(ApproXD.getBasis(eval_points,bs))\n",
    "ys = [string(\"Basis\",i) for i = size(B)[2]-1:-1:0]\n",
    "xs = reverse(eval_points)\n",
    "heatmap(xs,ys,reverse(B',dims=1))"
   ]
  },
  {
   "cell_type": "markdown",
   "metadata": {
    "slideshow": {
     "slide_type": "subslide"
    }
   },
   "source": [
    "* This is a cubic spline basis. at most $k+1=4$ basis are non-zero for any $x$."
   ]
  },
  {
   "cell_type": "code",
   "execution_count": 27,
   "metadata": {
    "slideshow": {
     "slide_type": "subslide"
    }
   },
   "outputs": [
    {
     "ename": "LoadError",
     "evalue": "UndefVarError: B not defined",
     "output_type": "error",
     "traceback": [
      "UndefVarError: B not defined",
      "",
      "Stacktrace:",
      " [1] top-level scope at In[27]:1",
      " [2] include_string(::Function, ::Module, ::String, ::String) at ./loading.jl:1091"
     ]
    }
   ],
   "source": [
    "heatmap(xs,ys,reverse(B',dims=1) .> 0, cbar = false)"
   ]
  },
  {
   "cell_type": "markdown",
   "metadata": {
    "collapsed": true,
    "slideshow": {
     "slide_type": "subslide"
    }
   },
   "source": [
    "## Using Sparsity of Splines\n",
    "\n",
    "* It may be better to store the splines in sparse format.\n",
    "* Look at object `B` by typing `B` and `typeof(B)`\n",
    "* There are sparse system solvers available.\n",
    "* Creating and storing the inverse of $\\Phi$ destroys the sparsity structure (inverse of a sparse matrix is not sparse), and may not be a good idea.\n",
    "* Look back at [Computing coefficients form the tensor product](#compute-c)\n",
    "* We only have to sum over the non-zero entries! Every other operation is pure cost.\n",
    "* This is implemented in `ApproXD.jl` for example via\n",
    "\n",
    "```julia\n",
    "    function evalTensor2{T}(mat1::SparseMatrixCSC{T,Int64},\n",
    "                            mat2::SparseMatrixCSC{T,Int64},\n",
    "                            c::Vector{T})\n",
    "```"
   ]
  },
  {
   "cell_type": "markdown",
   "metadata": {
    "slideshow": {
     "slide_type": "slide"
    }
   },
   "source": [
    "\n",
    "## High Dimensional Functions: Introducing the Smolyak Grid\n",
    "\n",
    "* This is a modification of the Tensor product rule. \n",
    "* It elemininates points from the full tensor product according to their *importance* for the quality of approximation.\n",
    "* The user controls this quality parameter, thereby increasing/decreasing the size of the grid.\n",
    "* [@jmmv] <cite data-cite=jmmv></cite>is a complete technical reference for this method.\n",
    "* [@maliar-maliar] <cite data-cite=maliarmaliar></cite>chapter 4 is very good overview of this topic, and the basis of this part of the lecture."
   ]
  },
  {
   "cell_type": "markdown",
   "metadata": {
    "slideshow": {
     "slide_type": "subslide"
    }
   },
   "source": [
    "\n",
    "## The Smolyak Grid in 2 Dimensions\n",
    "\n",
    "* Approximation level $\\mu \\in \\mathbb{N}$ governs the quality of the approximation.\n",
    "* Start with a unidimensional grid of points $x$:\n",
    "\t$$ x = \\left\\{-1,\\frac{-1}{\\sqrt{2}},0,\\frac{1}{\\sqrt{2}},1\\right\\} $$\n",
    "\twhich are 5 Chebyshev nodes (it's not important that those are Chebyshev nodes, any grid will work).\n",
    "* A 2D tensor product $x\\otimes x$ gives 25 grid points\n",
    "\t$$ x\\otimes x=\\left\\{(-1,-1),(-1,\\frac{-1}{\\sqrt{2}}),\\dots,(1,1)\\right\\} $$\n"
   ]
  },
  {
   "cell_type": "markdown",
   "metadata": {
    "slideshow": {
     "slide_type": "subslide"
    }
   },
   "source": [
    "* The Smolyak method proceeds differently.\n",
    "* We construct three nested sets:\n",
    "\n",
    "$$ \\begin{array}{l}\n",
    "\t\ti=1 : S_1 = \\{0\\} \\\\\n",
    "\t\ti=2 : S_2 = \\{0,-1,1\\} \\\\\n",
    "\t\ti=3 : S_3 = \\left\\{-1,\\frac{-1}{\\sqrt{2}},0,\\frac{1}{\\sqrt{2}},1\\right\\}  \\end{array} $$\n",
    "        \n",
    "* Then, we construct all possible 2D tensor products using elements from these nested sets in a table (next slide).\n",
    "* Finally, we select only those elements of the table, that satisfy the Smolyak rule:\n",
    "\t$$ i_1 + i_2 \\leq d + \\mu $$\n",
    "\twhere $i_1,i_2$ are column and row index, respectively, and $d,\\mu$ are the number of dimensions and the quality of approximation."
   ]
  },
  {
   "cell_type": "markdown",
   "metadata": {
    "slideshow": {
     "slide_type": "subslide"
    }
   },
   "source": [
    "# The Smolyak Grid in 2D: Tensor Table\n",
    "\n",
    "![[@maliar-maliar] table 3: All Tensor Products](../assets/figs/smolyak-tensortab.png)\n",
    "\n"
   ]
  },
  {
   "cell_type": "markdown",
   "metadata": {
    "slideshow": {
     "slide_type": "subslide"
    }
   },
   "source": [
    "## Selecting Elements\n",
    "\n",
    "* Denote the Smolyak grid for $d$ dimensions at level $\\mu$ by $\\mathcal{H}^{d,\\mu}$.\n",
    "* if $\\mu=0$ we have $i_1+i_2\\leq 2$. Only one point satisfies this, and \n",
    "\t$$ \\mathcal{H}^{2,0} = \\{(0,0)\\} $$\n",
    "* if $\\mu=1$ we have $i_1+i_2\\leq 3$. Three cases satisfy this:\n",
    "\t1. $i_1 = 1, i_2=1 \\rightarrow (0,0)$\n",
    "\t1. $i_1 = 1, i_2=2 \\rightarrow (0,0),(0,-1),(0,1)$\n",
    "\t1. $i_1 = 2, i_2=1 \\rightarrow (0,0),(-1,0),(1,0)$\n",
    "\t* Therefore, the unique elements from the union of all of those is\n",
    "\t\t$$ \\mathcal{H}^{2,1} = \\{(0,0),(-1,0),(1,0),(0,-1),(0,1)\\} $$\n"
   ]
  },
  {
   "cell_type": "markdown",
   "metadata": {
    "slideshow": {
     "slide_type": "subslide"
    }
   },
   "source": [
    "* if $\\mu=2$ we have $i_1+i_2\\leq 4$. Six cases satisfy this:\n",
    "\t1. $i_1 = 1, i_2=1$\n",
    "\t1. $i_1 = 1, i_2=2$\n",
    "\t1. $i_1 = 2, i_2=1$\n",
    "\t1. $i_1 = 1, i_2=3$\n",
    "\t1. $i_1 = 2, i_2=2$\n",
    "\t1. $i_1 = 3, i_2=1$\n",
    "\t* Therefore, the unique elements from the union of all of those is\n",
    "\t\t$$ \\mathcal{H}^{2,2} = \\left\\{(-1,1),(0,1),(1,1),(-1,0),(0,0),(1,0),(-1,-1),(0,-1),(1,-1),\\left(\\frac{-1}{\\sqrt{2}},0\\right),\\left(\\frac{1}{\\sqrt{2}},0\\right),\\left(0,\\frac{-1}{\\sqrt{2}}\\right),\\left(0,\\frac{1}{\\sqrt{2}}\\right)\\right\\} $$\n",
    "* Note that those elements are on the diagonal from top left to bottom right expanding through all the tensor products on table 3."
   ]
  },
  {
   "cell_type": "markdown",
   "metadata": {
    "slideshow": {
     "slide_type": "subslide"
    }
   },
   "source": [
    "\n",
    "## Size of Smolyak Grids\n",
    "\n",
    "* The Smolyak grid grows much slower (at order $d$ to a power of $\\mu$) than the Tensor grid (exponential growth)\n",
    "\n",
    "![[@maliar-maliar] figure 2: Tensor vs Smolyak in 2D](../assets/figs/smolyak-vs-tensor.png)\n",
    "\n",
    "\n",
    "\n"
   ]
  },
  {
   "cell_type": "markdown",
   "metadata": {
    "slideshow": {
     "slide_type": "subslide"
    }
   },
   "source": [
    "![[@maliar-maliar] figure 4: Tensor vs Smolyak in 2D, number of grid points](../assets/figs/smolyak-tensor-points.png)"
   ]
  },
  {
   "cell_type": "markdown",
   "metadata": {
    "slideshow": {
     "slide_type": "subslide"
    }
   },
   "source": [
    "## Smolyak Polynomials\n",
    "\n",
    "* Corresponding to the construction of grid points, there is the Smolyak way of constructing polynomials.\n",
    "* This works exactly as before. We start with a one-dimensional set of basis functions (again Chebyshev here, again irrelevant):\n",
    "\t$$ \\left\\{1,x,2x^2-1,4x^3-3x,8x^4-8x^2+1\\right\\} $$\n",
    "* Three nested sets:\n",
    "\n",
    "$$ \\begin{array}{l}\n",
    "    i=1 : S_1 = \\{1\\} \\\\\n",
    "    i=2 : S_2 = \\{1,x,2x^2-1\\} \\\\\n",
    "    i=3 : S_3 = \\left\\{1,x,2x^2-1,4x^3-3x,8x^4-8x^2+1\\right\\}  \\end{array} \n",
    "$$\n",
    "\n",
    "\n",
    "\n"
   ]
  },
  {
   "cell_type": "markdown",
   "metadata": {
    "slideshow": {
     "slide_type": "subslide"
    }
   },
   "source": [
    "* Denoting $\\mathcal{P}^{d,\\mu}$ the Smolyak polynomial, we follow exactly the same steps as for the grids to select elements of the full tensor product table 5:\n",
    "\n",
    "![[@maliar-maliar] figure 5: All Smolyak Polynomials in 2D](../assets/figs/smolyak-polynomial.png)"
   ]
  },
  {
   "cell_type": "markdown",
   "metadata": {
    "slideshow": {
     "slide_type": "subslide"
    }
   },
   "source": [
    "## Smolyak Interpolation\n",
    "\n",
    "This proceeds as in the previouses cases:\n",
    "\n",
    "1. Evaluate $f$ at all grid points $\\mathcal{H}^{d,\\mu}$.\n",
    "1. Evaluate the set of basis functions given by $\\mathcal{P}^{d,\\mu}$ at all grid points $\\mathcal{H}^{d,\\mu}$.\n",
    "1. Solve for the interpolating coefficients by inverting the Basis function matrix.\n",
    "\n",
    "## Extensions\n",
    "\n",
    "* There is a lot of redundancy in computing the grids the way we did it.\n",
    "* More sophisticated approaches take care not to compute repeated elements."
   ]
  },
  {
   "cell_type": "markdown",
   "metadata": {
    "slideshow": {
     "slide_type": "subslide"
    }
   },
   "source": [
    "## Smolyak Grids in Julia\n",
    "\n",
    "* There are at least 2 julia packages that implement this idea:\n",
    "\t* [https://github.com/QuantEcon/BasisMatrices.jl](BasisMatrices.jl) \n",
    "\t* [https://github.com/RJDennis/SmolyakApprox.jl](SmolyakApprox.jl) "
   ]
  },
  {
   "cell_type": "markdown",
   "metadata": {
    "slideshow": {
     "slide_type": "subslide"
    }
   },
   "source": [
    "# Using (Smolyak from) `BasisMatrices`\n",
    "\n",
    "* `BasisMatrices` provides general support for all kinds of basis matrices.\n",
    "* `Cheb` for chebyshev basis matrix\n",
    "* `Spline` for spline\n",
    "* `Lin` for linear\n",
    "\n",
    "### Outline\n",
    "\n",
    "* We usually start with defining `Params` for each type: bounds, grid points, degrees, etc\n",
    "* Then we construct a Basis type `basis`\n",
    "* Then we can get evaluation nodes, i.e. points at which to evaluate our function with `nodes(basis)`\n",
    "* Then get an evaluted basis matrix with `BasisMatrix(basis)`"
   ]
  },
  {
   "cell_type": "code",
   "execution_count": 28,
   "metadata": {
    "slideshow": {
     "slide_type": "subslide"
    }
   },
   "outputs": [
    {
     "ename": "LoadError",
     "evalue": "ArgumentError: Package BasisMatrices not found in current path:\n- Run `import Pkg; Pkg.add(\"BasisMatrices\")` to install the BasisMatrices package.\n",
     "output_type": "error",
     "traceback": [
      "ArgumentError: Package BasisMatrices not found in current path:\n- Run `import Pkg; Pkg.add(\"BasisMatrices\")` to install the BasisMatrices package.\n",
      "",
      "Stacktrace:",
      " [1] require(::Module, ::Symbol) at ./loading.jl:893",
      " [2] include_string(::Function, ::Module, ::String, ::String) at ./loading.jl:1091"
     ]
    }
   ],
   "source": [
    "using BasisMatrices\n",
    "grid1 = range(1,stop = 3,length = 10)\n",
    "lp = LinParams(grid1)\n",
    "sp = SplineParams(collect(grid1),0,3)  # nodes, whether only 2 nodes, degree of spline\n",
    "sm = SmolyakParams(2,1,[3],[2])   # dims,mu,lower bound(s), upper bound(s)\n",
    "sm2 = SmolyakParams(2,[1,2],[0,-0.5],[3,4.4])   # dims,mu,lower bound(s), upper bound(s)\n",
    "sm3 = SmolyakParams(3,[1,2,2],[0,-0.5,1],[3,4.4,5])   # dims,mu,lower bound(s), upper bound(s)"
   ]
  },
  {
   "cell_type": "code",
   "execution_count": 29,
   "metadata": {
    "slideshow": {
     "slide_type": "subslide"
    }
   },
   "outputs": [
    {
     "ename": "LoadError",
     "evalue": "UndefVarError: grid1 not defined",
     "output_type": "error",
     "traceback": [
      "UndefVarError: grid1 not defined",
      "",
      "Stacktrace:",
      " [1] top-level scope at In[29]:4",
      " [2] include_string(::Function, ::Module, ::String, ::String) at ./loading.jl:1091"
     ]
    }
   ],
   "source": [
    "# simple interpolation\n",
    "fi(x) = x.^2 - 0.5*x.^3\n",
    "\n",
    "sp = SplineParams(collect(grid1),0,3)  # nodes, whether only 2 nodes, degree of spline\n",
    "sb = Basis(sp)\n",
    "s,n = BasisMatrices.nodes(sb)\n",
    "sv =fi(s)\n",
    "coef, bs_direct = funfitxy(sb, s, sv)   # compute coefficients\n",
    "plot(fi,1,3,label=\"truth\")\n",
    "newx = 1 .+ rand(10)*2\n",
    "newy = funeval(coef,sb,newx)   # evaluate basis at new points\n",
    "scatter!(newx,newy,label=\"approx\")"
   ]
  },
  {
   "cell_type": "code",
   "execution_count": 30,
   "metadata": {
    "slideshow": {
     "slide_type": "subslide"
    }
   },
   "outputs": [
    {
     "ename": "LoadError",
     "evalue": "UndefVarError: SplineParams not defined",
     "output_type": "error",
     "traceback": [
      "UndefVarError: SplineParams not defined",
      "",
      "Stacktrace:",
      " [1] top-level scope at In[30]:2",
      " [2] include_string(::Function, ::Module, ::String, ::String) at ./loading.jl:1091"
     ]
    }
   ],
   "source": [
    "# multiple dimensions\n",
    "basis = Basis(SplineParams(25, -1, 1, 2),SplineParams(20, -1, 2, 1))   # quadratic and linear spline\n",
    "# get nodes\n",
    "X, x12 = BasisMatrices.nodes(basis)\n",
    "\n",
    "# function to interpolate\n",
    "f2(x1, x2) = cos.(x2) ./ exp.(x1)\n",
    "f2(X::Matrix) = f2.(X[:, 1], X[:, 2])\n",
    "\n",
    "# f at nodes\n",
    "y = f2(X)\n",
    "Ymat = [f2(i,j) for i in x12[1], j in x12[2]]\n",
    "\n",
    "coefs, bbs = funfitxy(basis, X, y)\n",
    "ynew = funeval(coefs, basis, X[5:5, :])[1]\n",
    "using Test\n",
    "@test maximum(abs, ynew -  y[5]) <= 1e-12\n",
    "\n",
    "# plotlyjs()\n",
    "surface(x12[1],x12[2],Ymat',alpha=0.7,cbar=false)\n",
    "\n",
    "xnew=hcat(-1 .+ rand(10)*2 , -1 .+ rand(10)*3)\n",
    "ynew = [funeval(coefs, basis, xnew[i,:]) for i in 1:size(xnew,1)]\n",
    "scatter!(xnew[:,1],xnew[:,2],ynew,markersize=2,markershape=:rect)\n"
   ]
  },
  {
   "cell_type": "code",
   "execution_count": 31,
   "metadata": {
    "slideshow": {
     "slide_type": "subslide"
    }
   },
   "outputs": [
    {
     "ename": "LoadError",
     "evalue": "UndefVarError: SmolyakParams not defined",
     "output_type": "error",
     "traceback": [
      "UndefVarError: SmolyakParams not defined",
      "",
      "Stacktrace:",
      " [1] top-level scope at In[31]:4",
      " [2] include_string(::Function, ::Module, ::String, ::String) at ./loading.jl:1091"
     ]
    }
   ],
   "source": [
    "# same with the smolyak grid\n",
    "# multiple dimensions\n",
    "using LinearAlgebra\n",
    "sp = SmolyakParams(2,3, [-1,-1],[1,2])\n",
    "basis = Basis(sp)   \n",
    "# get nodes\n",
    "X, x12 = BasisMatrices.nodes(basis)\n",
    "\n",
    "# # f at nodes\n",
    "y = f2(X)\n",
    "Ymat = [f2(i,j) for i in unique(X[:,1]), j in unique(X[:,2])]\n",
    "\n",
    "\n",
    "# map domain into unit hypercube\n",
    "cube = BasisMatrices.dom2cube(X, basis.params[1])\n",
    "# evaluate basis matrix\n",
    "eb   = BasisMatrices.build_B(sp.d, sp.mu, cube, sp.pinds)\n",
    "coef = pinv(eb) * y\n",
    "\n",
    "xnew = hcat(-1 .+ rand(30)*2 , -1 .+ rand(30)*3)\n",
    "cube = BasisMatrices.dom2cube(xnew, sp)\n",
    "eb   = BasisMatrices.build_B(sp.d, sp.mu, cube, sp.pinds)\n",
    "ynew = eb * coef\n",
    "\n",
    "scatter(X[:,1],X[:,2],y,markersize=2)\n",
    "scatter!(xnew[:,1],xnew[:,2],ynew,markersize=2,markershape=:rect)"
   ]
  },
  {
   "cell_type": "markdown",
   "metadata": {
    "slideshow": {
     "slide_type": "subslide"
    }
   },
   "source": [
    "## More on Sparse Grids\n",
    "\n",
    "* Sparse Grids are widely used.\n",
    "* The [Tasmanian](https://tasmanian.ornl.gov) library is excellent.\n",
    "* The [Tasmanian.jl](https://github.com/floswald/Tasmanian.jl) is a simple wrapper to that library.\n",
    "* [Simon Scheidegger](https://sites.google.com/site/simonscheidegger/home) has many useful resources on his website, in particular their joint paper with [Johannes Brumm](http://johannesbrumm.com) features an application of sparse grids for high dimensional economics problems."
   ]
  },
  {
   "cell_type": "code",
   "execution_count": 32,
   "metadata": {},
   "outputs": [
    {
     "ename": "LoadError",
     "evalue": "ArgumentError: Package Tasmanian not found in current path:\n- Run `import Pkg; Pkg.add(\"Tasmanian\")` to install the Tasmanian package.\n",
     "output_type": "error",
     "traceback": [
      "ArgumentError: Package Tasmanian not found in current path:\n- Run `import Pkg; Pkg.add(\"Tasmanian\")` to install the Tasmanian package.\n",
      "",
      "Stacktrace:",
      " [1] require(::Module, ::Symbol) at ./loading.jl:893",
      " [2] include_string(::Function, ::Module, ::String, ::String) at ./loading.jl:1091"
     ]
    }
   ],
   "source": [
    "using Tasmanian\n",
    "Tasmanian.ex2()"
   ]
  },
  {
   "cell_type": "code",
   "execution_count": null,
   "metadata": {},
   "outputs": [],
   "source": []
  }
 ],
 "metadata": {
  "celltoolbar": "Slideshow",
  "kernelspec": {
   "display_name": "Julia 1.5.0",
   "language": "julia",
   "name": "julia-1.5"
  },
  "language_info": {
   "file_extension": ".jl",
   "mimetype": "application/julia",
   "name": "julia",
   "version": "1.5.0"
  }
 },
 "nbformat": 4,
 "nbformat_minor": 1
}
