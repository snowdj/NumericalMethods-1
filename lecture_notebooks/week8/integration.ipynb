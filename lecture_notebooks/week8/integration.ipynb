{
 "cells": [
  {
   "cell_type": "markdown",
   "metadata": {
    "slideshow": {
     "slide_type": "slide"
    }
   },
   "source": [
    "### Numerical Integration\n",
    "\n",
    "**ScPo Computational Economics 2018**"
   ]
  },
  {
   "cell_type": "markdown",
   "metadata": {
    "slideshow": {
     "slide_type": "slide"
    }
   },
   "source": [
    "## Numerical Approximation of Integrals\n",
    "\n",
    "* We will focus on methods that represent integrals as weighted sums.\n",
    "* The typical representation will look like:\n",
    "\t$$ E[G(\\epsilon)] = \\int_{\\mathbb{R}^N} G(\\epsilon) w(\\epsilon) d\\epsilon \\approx \\sum_{j=1}^J \\omega_j G(\\epsilon_j) $$"
   ]
  },
  {
   "cell_type": "markdown",
   "metadata": {
    "slideshow": {
     "slide_type": "slide"
    }
   },
   "source": [
    "$$ E[G(\\epsilon)] = \\int_{\\mathbb{R}^N} G(\\epsilon) w(\\epsilon) d\\epsilon \\approx \\sum_{j=1}^J \\omega_j G(\\epsilon_j) $$\n",
    "\n",
    "* $N$ is the dimensionality of the integration problem.\n",
    "* $G:\\mathbb{R}^N \\mapsto \\mathbb{R}$ is the function we want to integrate wrt $\\epsilon \\in \\mathbb{R}^N$.\n",
    "* $w$ is a density function s.t. $\\int_{\\mathbb{R}^n} w(\\epsilon) d\\epsilon = 1$.\n",
    "* $\\omega$ are weights such that (most of the time) $\\sum_{j=1}^J \\omega_j = 1$.\n",
    "* We will look at normal shocks $\\epsilon \\sim N(0_N,I_N)$\n",
    "* in that case, $w(\\epsilon) = (2\\pi)^{-N/2} \\exp \\left(-\\frac{1}{2}\\epsilon^T \\epsilon \\right)$\n",
    "* $I_N$ is the n by n identity matrix, i.e. there is no correlation among the shocks for now.\n",
    "* Other random processes will require different weighting functions, but the principle is identical.\n",
    "* For now, let's say that $N=1$\n",
    "\n"
   ]
  },
  {
   "cell_type": "markdown",
   "metadata": {
    "slideshow": {
     "slide_type": "slide"
    }
   },
   "source": [
    "## Quadrature Rules\n",
    "\n",
    "* We focus exclusively on those and leave Simpson and Newton Cowtes formulas out.\n",
    "\t* This is because Quadrature is the method that in many situations gives highes accuracy with lowest computational cost.\n",
    "* Quadrature provides a rule to compute weights $w_j$ and nodes $\\epsilon_j$.\n",
    "* There are many different quadrature rules.\n",
    "* They differ in their domain and weighting function.\n",
    "* [https://en.wikipedia.org/wiki/Gaussian_quadrature](https://en.wikipedia.org/wiki/Gaussian_quadrature)\n",
    "* In general, we can convert our function domain to a rule-specific domain with change of variables.\n",
    "\n"
   ]
  },
  {
   "cell_type": "markdown",
   "metadata": {
    "slideshow": {
     "slide_type": "subslide"
    }
   },
   "source": [
    "## Gauss-Hermite: Expectation of a Normally Distributed Variable\n",
    "\n",
    "* There are many different rules, all specific to a certain random process.\n",
    "* Gauss-Hermite is designed for an integral of the form\n",
    "\t$$ \\int_{-\\infty}^{+\\infty} e^{-x^2} G(x) dx $$\n",
    "\tand where we would approximate \n",
    "\t$$ \\int_{-\\infty}^{+\\infty} e^{-x^2} f(x) dx \\approx \\sum_{i=1}^n \\omega_i G(x_i) $$\n",
    "* Now, let's say we want to approximate the expected value of function $f$ when it's argument $z\\sim N(\\mu,\\sigma^2)$:\n",
    "\t$$ E[f(z)] = \\int_{-\\infty}^{+\\infty} \\frac{1}{\\sigma \\sqrt{2\\pi}} \\exp \\left( -\\frac{(z-\\mu)^2}{2\\sigma^2} \\right) f(z) dz $$\n",
    "\n"
   ]
  },
  {
   "cell_type": "markdown",
   "metadata": {
    "slideshow": {
     "slide_type": "subslide"
    }
   },
   "source": [
    "\n",
    "## Gauss-Hermite: Expectation of a Normally Distributed Variable\n",
    "\n",
    "* The rule is defined for $x$ however. We need to transform $z$:\n",
    "\t$$ x = \\frac{(z-\\mu)^2}{2\\sigma^2} \\Rightarrow z = \\sqrt{2} \\sigma x + \\mu $$\n",
    "* This gives us now (just plug in for $z$)\n",
    "\t$$ E[f(z)] = \\int_{-\\infty}^{+\\infty} \\frac{1}{ \\sqrt{\\pi}} \\exp \\left( -x^2 \\right) f(\\sqrt{2} \\sigma x + \\mu) dx $$\n",
    "* And thus, our approximation to this, using weights $\\omega_i$ and nodes $x_i$ is\n",
    "\t$$ E[f(z)] \\approx \\sum_{j=1}^J \\frac{1}{\\sqrt{\\pi}} \\omega_j f(\\sqrt{2} \\sigma x_j + \\mu)$$\n",
    "\n"
   ]
  },
  {
   "cell_type": "markdown",
   "metadata": {
    "slideshow": {
     "slide_type": "subslide"
    }
   },
   "source": [
    "## Using Quadrature in Julia\n",
    "\n",
    "* [https://github.com/ajt60gaibb/FastGaussQuadrature.jl](https://github.com/ajt60gaibb/FastGaussQuadrature.jl)"
   ]
  },
  {
   "cell_type": "code",
   "execution_count": 1,
   "metadata": {
    "attributes": {
     "classes": [
      "julia"
     ],
     "id": ""
    },
    "slideshow": {
     "slide_type": "subslide"
    }
   },
   "outputs": [
    {
     "data": {
      "text/html": [
       "<table class=\"data-frame\"><thead><tr><th></th><th>Rule</th><th>nodes</th><th>weights</th></tr><tr><th></th><th>Symbol</th><th>Array…</th><th>Array…</th></tr></thead><tbody><p>4 rows × 3 columns</p><tr><th>1</th><td>lobatto</td><td>[-1.0, 0.0, 1.0]</td><td>[0.333333, 1.33333, 0.333333]</td></tr><tr><th>2</th><td>hermite</td><td>[-1.22474, -8.88178e-16, 1.22474]</td><td>[0.295409, 1.18164, 0.295409]</td></tr><tr><th>3</th><td>legendre</td><td>[-0.774597, 0.0, 0.774597]</td><td>[0.555556, 0.888889, 0.555556]</td></tr><tr><th>4</th><td>chebyshev</td><td>[-0.866025, 6.12323e-17, 0.866025]</td><td>[1.0472, 1.0472, 1.0472]</td></tr></tbody></table>"
      ],
      "text/latex": [
       "\\begin{tabular}{r|ccc}\n",
       "\t& Rule & nodes & weights\\\\\n",
       "\t\\hline\n",
       "\t& Symbol & Array… & Array…\\\\\n",
       "\t\\hline\n",
       "\t1 & lobatto & [-1.0, 0.0, 1.0] & [0.333333, 1.33333, 0.333333] \\\\\n",
       "\t2 & hermite & [-1.22474, -8.88178e-16, 1.22474] & [0.295409, 1.18164, 0.295409] \\\\\n",
       "\t3 & legendre & [-0.774597, 0.0, 0.774597] & [0.555556, 0.888889, 0.555556] \\\\\n",
       "\t4 & chebyshev & [-0.866025, 6.12323e-17, 0.866025] & [1.0472, 1.0472, 1.0472] \\\\\n",
       "\\end{tabular}\n"
      ],
      "text/plain": [
       "\u001b[1m4×3 DataFrame\u001b[0m\n",
       "\u001b[1m Row \u001b[0m│\u001b[1m Rule      \u001b[0m\u001b[1m nodes                             \u001b[0m\u001b[1m weights                  \u001b[0m ⋯\n",
       "\u001b[1m     \u001b[0m│\u001b[90m Symbol    \u001b[0m\u001b[90m Array…                            \u001b[0m\u001b[90m Array…                   \u001b[0m ⋯\n",
       "─────┼──────────────────────────────────────────────────────────────────────────\n",
       "   1 │ lobatto    [-1.0, 0.0, 1.0]                   [0.333333, 1.33333, 0.333 ⋯\n",
       "   2 │ hermite    [-1.22474, -8.88178e-16, 1.22474]  [0.295409, 1.18164, 0.295\n",
       "   3 │ legendre   [-0.774597, 0.0, 0.774597]         [0.555556, 0.888889, 0.55\n",
       "   4 │ chebyshev  [-0.866025, 6.12323e-17, 0.86602…  [1.0472, 1.0472, 1.0472]\n",
       "\u001b[31m                                                                1 column omitted\u001b[0m"
      ]
     },
     "execution_count": 1,
     "metadata": {},
     "output_type": "execute_result"
    }
   ],
   "source": [
    "#Pkg.add(\"FastGaussQuadrature\")\n",
    "\n",
    "using FastGaussQuadrature\n",
    "\n",
    "np = 3\n",
    "\n",
    "rules = Dict(\"hermite\" => gausshermite(np),\n",
    "             \"chebyshev\" => gausschebyshev(np),\n",
    "             \"legendre\" => gausslegendre(np),\n",
    "             \"lobatto\" => gausslobatto(np))\n",
    "\n",
    "using DataFrames\n",
    "\n",
    "integ = DataFrame(Rule=Symbol[Symbol(x) for x in keys(rules)],nodes=[x[1] for x in values(rules)],weights=[x[2] for x in values(rules)])"
   ]
  },
  {
   "cell_type": "markdown",
   "metadata": {
    "slideshow": {
     "slide_type": "slide"
    }
   },
   "source": [
    "## Quadrature in more dimensions: Product Rule\n",
    "\n",
    "* If we have $N>1$, we can use the product rule: this just takes the *kronecker product* of all univariate rules.\n",
    "* The what?\n"
   ]
  },
  {
   "cell_type": "code",
   "execution_count": 2,
   "metadata": {},
   "outputs": [
    {
     "data": {
      "text/plain": [
       "4×2 Array{Int64,2}:\n",
       "  1   2\n",
       "  3   4\n",
       " 10  20\n",
       " 30  40"
      ]
     },
     "execution_count": 2,
     "metadata": {},
     "output_type": "execute_result"
    }
   ],
   "source": [
    "A = [1 2;3 4]\n",
    "B = [1;10]\n",
    "kron(A,B)\n",
    "kron(B,A)"
   ]
  },
  {
   "cell_type": "markdown",
   "metadata": {
    "slideshow": {
     "slide_type": "subslide"
    }
   },
   "source": [
    "* This works well as long as $N$ is not too large. The number of required function evaluations grows exponentially.\n",
    "\t$$ E[G(\\epsilon)] = \\int_{\\mathbb{R}^N} G(\\epsilon) w(\\epsilon) d\\epsilon \\approx \\sum_{j_1=1}^{J_1} \\cdots \\sum_{j_N=1}^{J_N} \\omega_{j_1}^1 \\cdots \\omega_{j_N}^N G(\\epsilon_{j_1}^1,\\dots,\\epsilon_{j_N}^N) $$\n",
    "\twhere $\\omega_{j_1}^1$ stands for weight index $j_1$ in dimension 1, same for $\\epsilon$.\n",
    "* Total number of nodes: $J=J_1 J_2 \\cdots J_N$, and $J_i$ can differ from $J_k$.\n",
    "\n",
    "\n",
    "\n",
    "### Example for $N=3$\n",
    "\n",
    "* Suppose we have $\\epsilon^i \\sim N(0,1),i=1,2,3$ as three uncorrelated random variables.\n",
    "* Let's take $J=3$ points in all dimensions, so that in total we have $J^N=27$ points.\n",
    "* We have the nodes and weights from before in `rules[\"hermite\"]`."
   ]
  },
  {
   "cell_type": "code",
   "execution_count": 3,
   "metadata": {},
   "outputs": [
    {
     "data": {
      "text/plain": [
       "27-element Array{Float64,1}:\n",
       " -1.2247448713915892\n",
       " -8.881784197001252e-16\n",
       "  1.2247448713915892\n",
       " -1.2247448713915892\n",
       " -8.881784197001252e-16\n",
       "  1.2247448713915892\n",
       " -1.2247448713915892\n",
       " -8.881784197001252e-16\n",
       "  1.2247448713915892\n",
       " -1.2247448713915892\n",
       " -8.881784197001252e-16\n",
       "  1.2247448713915892\n",
       " -1.2247448713915892\n",
       "  ⋮\n",
       " -1.2247448713915892\n",
       " -8.881784197001252e-16\n",
       "  1.2247448713915892\n",
       " -1.2247448713915892\n",
       " -8.881784197001252e-16\n",
       "  1.2247448713915892\n",
       " -1.2247448713915892\n",
       " -8.881784197001252e-16\n",
       "  1.2247448713915892\n",
       " -1.2247448713915892\n",
       " -8.881784197001252e-16\n",
       "  1.2247448713915892"
      ]
     },
     "execution_count": 3,
     "metadata": {},
     "output_type": "execute_result"
    }
   ],
   "source": [
    "rules[\"hermite\"][1]\n",
    "repeat(rules[\"hermite\"][1],inner=[1],outer=[9])"
   ]
  },
  {
   "cell_type": "code",
   "execution_count": 4,
   "metadata": {
    "attributes": {
     "classes": [
      "julia"
     ],
     "id": ""
    },
    "slideshow": {
     "slide_type": "subslide"
    }
   },
   "outputs": [
    {
     "data": {
      "text/html": [
       "<table class=\"data-frame\"><thead><tr><th></th><th>weights</th><th>dim1</th><th>dim2</th><th>dim3</th></tr><tr><th></th><th>Float64</th><th>Float64</th><th>Float64</th><th>Float64</th></tr></thead><tbody><p>27 rows × 4 columns</p><tr><th>1</th><td>0.0257793</td><td>-1.22474</td><td>-1.22474</td><td>-1.22474</td></tr><tr><th>2</th><td>0.103117</td><td>-8.88178e-16</td><td>-1.22474</td><td>-1.22474</td></tr><tr><th>3</th><td>0.0257793</td><td>1.22474</td><td>-1.22474</td><td>-1.22474</td></tr><tr><th>4</th><td>0.103117</td><td>-1.22474</td><td>-8.88178e-16</td><td>-1.22474</td></tr><tr><th>5</th><td>0.412469</td><td>-8.88178e-16</td><td>-8.88178e-16</td><td>-1.22474</td></tr><tr><th>6</th><td>0.103117</td><td>1.22474</td><td>-8.88178e-16</td><td>-1.22474</td></tr><tr><th>7</th><td>0.0257793</td><td>-1.22474</td><td>1.22474</td><td>-1.22474</td></tr><tr><th>8</th><td>0.103117</td><td>-8.88178e-16</td><td>1.22474</td><td>-1.22474</td></tr><tr><th>9</th><td>0.0257793</td><td>1.22474</td><td>1.22474</td><td>-1.22474</td></tr><tr><th>10</th><td>0.103117</td><td>-1.22474</td><td>-1.22474</td><td>-8.88178e-16</td></tr><tr><th>11</th><td>0.412469</td><td>-8.88178e-16</td><td>-1.22474</td><td>-8.88178e-16</td></tr><tr><th>12</th><td>0.103117</td><td>1.22474</td><td>-1.22474</td><td>-8.88178e-16</td></tr><tr><th>13</th><td>0.412469</td><td>-1.22474</td><td>-8.88178e-16</td><td>-8.88178e-16</td></tr><tr><th>14</th><td>1.64987</td><td>-8.88178e-16</td><td>-8.88178e-16</td><td>-8.88178e-16</td></tr><tr><th>15</th><td>0.412469</td><td>1.22474</td><td>-8.88178e-16</td><td>-8.88178e-16</td></tr><tr><th>16</th><td>0.103117</td><td>-1.22474</td><td>1.22474</td><td>-8.88178e-16</td></tr><tr><th>17</th><td>0.412469</td><td>-8.88178e-16</td><td>1.22474</td><td>-8.88178e-16</td></tr><tr><th>18</th><td>0.103117</td><td>1.22474</td><td>1.22474</td><td>-8.88178e-16</td></tr><tr><th>19</th><td>0.0257793</td><td>-1.22474</td><td>-1.22474</td><td>1.22474</td></tr><tr><th>20</th><td>0.103117</td><td>-8.88178e-16</td><td>-1.22474</td><td>1.22474</td></tr><tr><th>21</th><td>0.0257793</td><td>1.22474</td><td>-1.22474</td><td>1.22474</td></tr><tr><th>22</th><td>0.103117</td><td>-1.22474</td><td>-8.88178e-16</td><td>1.22474</td></tr><tr><th>23</th><td>0.412469</td><td>-8.88178e-16</td><td>-8.88178e-16</td><td>1.22474</td></tr><tr><th>24</th><td>0.103117</td><td>1.22474</td><td>-8.88178e-16</td><td>1.22474</td></tr><tr><th>25</th><td>0.0257793</td><td>-1.22474</td><td>1.22474</td><td>1.22474</td></tr><tr><th>26</th><td>0.103117</td><td>-8.88178e-16</td><td>1.22474</td><td>1.22474</td></tr><tr><th>27</th><td>0.0257793</td><td>1.22474</td><td>1.22474</td><td>1.22474</td></tr></tbody></table>"
      ],
      "text/latex": [
       "\\begin{tabular}{r|cccc}\n",
       "\t& weights & dim1 & dim2 & dim3\\\\\n",
       "\t\\hline\n",
       "\t& Float64 & Float64 & Float64 & Float64\\\\\n",
       "\t\\hline\n",
       "\t1 & 0.0257793 & -1.22474 & -1.22474 & -1.22474 \\\\\n",
       "\t2 & 0.103117 & -8.88178e-16 & -1.22474 & -1.22474 \\\\\n",
       "\t3 & 0.0257793 & 1.22474 & -1.22474 & -1.22474 \\\\\n",
       "\t4 & 0.103117 & -1.22474 & -8.88178e-16 & -1.22474 \\\\\n",
       "\t5 & 0.412469 & -8.88178e-16 & -8.88178e-16 & -1.22474 \\\\\n",
       "\t6 & 0.103117 & 1.22474 & -8.88178e-16 & -1.22474 \\\\\n",
       "\t7 & 0.0257793 & -1.22474 & 1.22474 & -1.22474 \\\\\n",
       "\t8 & 0.103117 & -8.88178e-16 & 1.22474 & -1.22474 \\\\\n",
       "\t9 & 0.0257793 & 1.22474 & 1.22474 & -1.22474 \\\\\n",
       "\t10 & 0.103117 & -1.22474 & -1.22474 & -8.88178e-16 \\\\\n",
       "\t11 & 0.412469 & -8.88178e-16 & -1.22474 & -8.88178e-16 \\\\\n",
       "\t12 & 0.103117 & 1.22474 & -1.22474 & -8.88178e-16 \\\\\n",
       "\t13 & 0.412469 & -1.22474 & -8.88178e-16 & -8.88178e-16 \\\\\n",
       "\t14 & 1.64987 & -8.88178e-16 & -8.88178e-16 & -8.88178e-16 \\\\\n",
       "\t15 & 0.412469 & 1.22474 & -8.88178e-16 & -8.88178e-16 \\\\\n",
       "\t16 & 0.103117 & -1.22474 & 1.22474 & -8.88178e-16 \\\\\n",
       "\t17 & 0.412469 & -8.88178e-16 & 1.22474 & -8.88178e-16 \\\\\n",
       "\t18 & 0.103117 & 1.22474 & 1.22474 & -8.88178e-16 \\\\\n",
       "\t19 & 0.0257793 & -1.22474 & -1.22474 & 1.22474 \\\\\n",
       "\t20 & 0.103117 & -8.88178e-16 & -1.22474 & 1.22474 \\\\\n",
       "\t21 & 0.0257793 & 1.22474 & -1.22474 & 1.22474 \\\\\n",
       "\t22 & 0.103117 & -1.22474 & -8.88178e-16 & 1.22474 \\\\\n",
       "\t23 & 0.412469 & -8.88178e-16 & -8.88178e-16 & 1.22474 \\\\\n",
       "\t24 & 0.103117 & 1.22474 & -8.88178e-16 & 1.22474 \\\\\n",
       "\t25 & 0.0257793 & -1.22474 & 1.22474 & 1.22474 \\\\\n",
       "\t26 & 0.103117 & -8.88178e-16 & 1.22474 & 1.22474 \\\\\n",
       "\t27 & 0.0257793 & 1.22474 & 1.22474 & 1.22474 \\\\\n",
       "\\end{tabular}\n"
      ],
      "text/plain": [
       "\u001b[1m27×4 DataFrame\u001b[0m\n",
       "\u001b[1m Row \u001b[0m│\u001b[1m weights   \u001b[0m\u001b[1m dim1         \u001b[0m\u001b[1m dim2         \u001b[0m\u001b[1m dim3         \u001b[0m\n",
       "\u001b[1m     \u001b[0m│\u001b[90m Float64   \u001b[0m\u001b[90m Float64      \u001b[0m\u001b[90m Float64      \u001b[0m\u001b[90m Float64      \u001b[0m\n",
       "─────┼─────────────────────────────────────────────────────\n",
       "   1 │ 0.0257793  -1.22474      -1.22474      -1.22474\n",
       "   2 │ 0.103117   -8.88178e-16  -1.22474      -1.22474\n",
       "   3 │ 0.0257793   1.22474      -1.22474      -1.22474\n",
       "   4 │ 0.103117   -1.22474      -8.88178e-16  -1.22474\n",
       "   5 │ 0.412469   -8.88178e-16  -8.88178e-16  -1.22474\n",
       "   6 │ 0.103117    1.22474      -8.88178e-16  -1.22474\n",
       "   7 │ 0.0257793  -1.22474       1.22474      -1.22474\n",
       "   8 │ 0.103117   -8.88178e-16   1.22474      -1.22474\n",
       "   9 │ 0.0257793   1.22474       1.22474      -1.22474\n",
       "  10 │ 0.103117   -1.22474      -1.22474      -8.88178e-16\n",
       "  11 │ 0.412469   -8.88178e-16  -1.22474      -8.88178e-16\n",
       "  ⋮  │     ⋮           ⋮             ⋮             ⋮\n",
       "  18 │ 0.103117    1.22474       1.22474      -8.88178e-16\n",
       "  19 │ 0.0257793  -1.22474      -1.22474       1.22474\n",
       "  20 │ 0.103117   -8.88178e-16  -1.22474       1.22474\n",
       "  21 │ 0.0257793   1.22474      -1.22474       1.22474\n",
       "  22 │ 0.103117   -1.22474      -8.88178e-16   1.22474\n",
       "  23 │ 0.412469   -8.88178e-16  -8.88178e-16   1.22474\n",
       "  24 │ 0.103117    1.22474      -8.88178e-16   1.22474\n",
       "  25 │ 0.0257793  -1.22474       1.22474       1.22474\n",
       "  26 │ 0.103117   -8.88178e-16   1.22474       1.22474\n",
       "  27 │ 0.0257793   1.22474       1.22474       1.22474\n",
       "\u001b[31m                                             6 rows omitted\u001b[0m"
      ]
     },
     "execution_count": 4,
     "metadata": {},
     "output_type": "execute_result"
    }
   ],
   "source": [
    "nodes = Any[]\n",
    "push!(nodes,repeat(rules[\"hermite\"][1],inner=[1],outer=[9]))  # dim1\n",
    "push!(nodes,repeat(rules[\"hermite\"][1],inner=[3],outer=[3]))  # dim2\n",
    "push!(nodes,repeat(rules[\"hermite\"][1],inner=[9],outer=[1]))  # dim3\n",
    "weights = kron(rules[\"hermite\"][2],kron(rules[\"hermite\"][2],rules[\"hermite\"][2]))\n",
    "df = hcat(DataFrame(weights=weights),DataFrame(nodes,[:dim1,:dim2,:dim3]))"
   ]
  },
  {
   "cell_type": "markdown",
   "metadata": {
    "slideshow": {
     "slide_type": "subslide"
    }
   },
   "source": [
    "* Imagine you had a function $g$ defined on those 3 dims: in order to approximate the integral, you would have to evaluate $g$ at all combinations of `dimx`, multiply with the corresponding weight, and sum.\n",
    "\n",
    "\n",
    "### Alternatives to the Product Rule\n",
    "\n",
    "* Monomial Rules: They grow only linearly.\n",
    "* Please refer to [juddbook] <cite data-cite=juddbook></cite> for more details.\n",
    "\n",
    "\n"
   ]
  },
  {
   "cell_type": "markdown",
   "metadata": {
    "slideshow": {
     "slide_type": "slide"
    }
   },
   "source": [
    "## Monte Carlo Integration\n",
    "\n",
    "* A widely used method is to just draw $N$ points randomly from the space of the shock $\\epsilon$, and to assign equal weights $\\omega_j=\\frac{1}{N}$ to all of them.\n",
    "* The expectation is then\n",
    "\t$$ E[G(\\epsilon)] \\approx \\frac{1}{N} \\sum_{j=1}^N  G(\\epsilon_j) $$\n",
    "* This in general a very inefficient method.\n",
    "* Particularly in more than 1 dimensions, the number of points needed for good accuracy is very large.\n",
    "* Monte Carlo has a rate of convergence of $\\mathcal{O}(n^{-0.5})$"
   ]
  },
  {
   "cell_type": "markdown",
   "metadata": {
    "slideshow": {
     "slide_type": "subslide"
    }
   },
   "source": [
    "## Quasi Monte Carlo Integration\n",
    "\n",
    "* Uses non-product techniques to construct a grid of uniformly spaced points.\n",
    "* The researcher controlls the number of points. \n",
    "* We need to construct equidistributed points.\n",
    "* Typically one uses a low-discrepancy sequence of points, e.g. the Weyl sequence:\n",
    "* $x_n = {n v}$ where $v$ is an irrational number and `{}` stands for the fractional part of a number. for $v=\\sqrt{2}$,\n",
    "\t$$ x_1 = \\{1 \\sqrt{2}\\} = \\{1.4142\\} = 0.4142, x_2 = \\{2 \\sqrt{2}\\} = \\{2.8242\\} = 0.8242,... $$\n",
    "* Other low-discrepancy sequences are Niederreiter, Haber, Baker or Sobol.\n",
    "* Quasi Monte Carlo has a rate of convergence of close to $\\mathcal{O}(n^{-1})$\n",
    "* [The wikipedia entry is good](https://en.wikipedia.org/wiki/Quasi-Monte_Carlo_method)."
   ]
  },
  {
   "cell_type": "code",
   "execution_count": 5,
   "metadata": {
    "attributes": {
     "classes": [
      "julia"
     ],
     "id": ""
    },
    "slideshow": {
     "slide_type": "subslide"
    }
   },
   "outputs": [
    {
     "name": "stderr",
     "output_type": "stream",
     "text": [
      "┌ Info: Precompiling Plots [91a5bcdd-55d7-5caf-9e0b-520d859cae80]\n",
      "└ @ Base loading.jl:1278\n"
     ]
    },
    {
     "ename": "LoadError",
     "evalue": "UndefVarError: next not defined",
     "output_type": "error",
     "traceback": [
      "UndefVarError: next not defined",
      "",
      "Stacktrace:",
      " [1] (::var\"#7#8\")(::Int64) at ./none:0",
      " [2] iterate at ./generator.jl:47 [inlined]",
      " [3] collect(::Base.Generator{UnitRange{Int64},var\"#7#8\"}) at ./array.jl:686",
      " [4] top-level scope at In[5]:5",
      " [5] include_string(::Function, ::Module, ::String, ::String) at ./loading.jl:1091"
     ]
    }
   ],
   "source": [
    "# Pkg.add(\"Sobol\")\n",
    "using Sobol\n",
    "using Plots\n",
    "s = SobolSeq(2)\n",
    "p = hcat([next(s) for i = 1:1024]...)'\n",
    "scatter(p[:,1], p[:,2], m=(:red,:dot,1.0),legend=false)"
   ]
  },
  {
   "cell_type": "markdown",
   "metadata": {
    "slideshow": {
     "slide_type": "slide"
    }
   },
   "source": [
    " ## Correlated Shocks\n",
    "\n",
    "* We often face situations where the shocks are in fact correlated.\n",
    "\t* One very typical case is an AR1 process:\n",
    "\t$$ z_{t+1} = \\rho z_t + \\varepsilon_t, \\varepsilon \\sim N(0,\\sigma^2) $$\n",
    "* The general case is again:\n",
    "\t$$ E[G(\\epsilon)] = \\int_{\\mathbb{R}^N} G(\\epsilon) w(\\epsilon) d\\epsilon \\approx \\sum_{j_1=1}^{J_1} \\cdots \\sum_{j_N=1}^{J_N} \\omega_{j_1}^1 \\cdots \\omega_{j_N}^N G(\\epsilon_{j_1}^1,\\dots,\\epsilon_{j_N}^N) $$"
   ]
  },
  {
   "cell_type": "markdown",
   "metadata": {
    "slideshow": {
     "slide_type": "subslide"
    }
   },
   "source": [
    "* Now $\\epsilon \\sim N(\\mu,\\Sigma)$ where $\\Sigma$ is an N by N variance-covariance matrix.\n",
    "* The multivariate density is\n",
    "\t$$w(\\epsilon) = (2\\pi)^{-N/2} det(\\Sigma)^{-1/2} \\exp \\left(-\\frac{1}{2}(\\epsilon - \\mu)^T (\\epsilon - \\mu) \\right)$$\n",
    "* We need to perform a change of variables before we can integrate this.\n",
    "* Given $\\Sigma$ is symmetric and positive semi-definite, it has a Cholesky decomposition, \n",
    "\t$$ \\Sigma = \\Omega \\Omega^T $$\n",
    "\twhere $\\Omega$ is a lower-triangular with strictly positive entries.\n",
    "* The linear change of variables is then\n",
    "\t$$ v = \\Omega^{-1} (\\epsilon - \\mu)  $$"
   ]
  },
  {
   "cell_type": "markdown",
   "metadata": {
    "slideshow": {
     "slide_type": "subslide"
    }
   },
   "source": [
    "\n",
    "\n",
    "* Plugging this in gives\n",
    "\t$$ \\sum_{j=1}^J \\omega_j  G(\\Omega v_j + \\mu) \\equiv \\sum_{j=1}^J \\omega_j  G(\\epsilon_j) $$\n",
    "\twhere $v\\sim N(0,I_N)$.\n",
    "* So, we can follow the exact same steps as with the uncorrelated shocks, but need to adapt the nodes.\n",
    "\n",
    "\n",
    "\n"
   ]
  },
  {
   "cell_type": "markdown",
   "metadata": {
    "slideshow": {
     "slide_type": "slide"
    }
   },
   "source": [
    "\n",
    "\n",
    "\n",
    "## References\n",
    "\n",
    "* The Integration part of these slides are based on [@maliar-maliar] <cite data-cite=maliarmaliar></cite> chapter 5"
   ]
  }
 ],
 "metadata": {
  "celltoolbar": "Slideshow",
  "kernelspec": {
   "display_name": "Julia 1.5.0",
   "language": "julia",
   "name": "julia-1.5"
  },
  "language_info": {
   "file_extension": ".jl",
   "mimetype": "application/julia",
   "name": "julia",
   "version": "1.5.0"
  }
 },
 "nbformat": 4,
 "nbformat_minor": 1
}
